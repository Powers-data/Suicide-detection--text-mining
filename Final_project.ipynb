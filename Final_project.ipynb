{
 "cells": [
  {
   "cell_type": "code",
   "execution_count": 1,
   "id": "fb6d1935-21e7-4c07-a66a-812d2e96d0b9",
   "metadata": {},
   "outputs": [],
   "source": [
    "\"\"\"\n",
    "IST736 Text Mining\n",
    "Final Project\n",
    "\n",
    "Bomin Powers\n",
    "\"\"\"\n",
    "#Importing the Required Librarires\n",
    "import warnings \n",
    "warnings.filterwarnings('ignore')\n",
    "from datetime import datetime\n",
    "import re\n",
    "import string\n",
    "import pandas as pd\n",
    "import numpy as np\n",
    "import matplotlib.pyplot as plt\n",
    "import seaborn as sns\n",
    "from tabulate import tabulate\n",
    "from os import path\n",
    "import graphviz\n",
    "import spacy\n",
    "nlp = spacy.load('en_core_web_sm')\n",
    "from PIL import Image\n",
    "from wordcloud import WordCloud, STOPWORDS, ImageColorGenerator\n",
    "from nltk.corpus import stopwords\n",
    "from nltk.tokenize import (word_tokenize,wordpunct_tokenize,TweetTokenizer)\n",
    "from sklearn.pipeline import Pipeline\n",
    "from sklearn import metrics\n",
    "from sklearn.model_selection import GridSearchCV\n",
    "from sklearn.base import TransformerMixin, BaseEstimator\n",
    "from sklearn.feature_extraction.text import CountVectorizer\n",
    "from sklearn.ensemble import RandomForestClassifier\n",
    "from sklearn.naive_bayes import MultinomialNB\n",
    "from sklearn.metrics import accuracy_score, confusion_matrix, classification_report\n",
    "from sklearn.linear_model import LogisticRegression\n",
    "from sklearn.tree import DecisionTreeClassifier, plot_tree\n",
    "from sklearn.svm import SVC\n",
    "from sklearn.svm import LinearSVC\n",
    "from sklearn import preprocessing\n",
    "from sklearn import tree\n",
    "from sklearn.feature_selection import SelectFromModel\n",
    "le = preprocessing.LabelEncoder()\n",
    "from sklearn.feature_extraction.text import TfidfVectorizer"
   ]
  },
  {
   "cell_type": "markdown",
   "id": "656b6105-4fd7-4204-9b8f-d8df39daeec9",
   "metadata": {},
   "source": [
    "# Obtain data"
   ]
  },
  {
   "cell_type": "code",
   "execution_count": 2,
   "id": "45f6935d-0def-4815-a4ff-5d1c0058943c",
   "metadata": {},
   "outputs": [],
   "source": [
    "# datasets to load\n",
    "# https://www.kaggle.com/datasets/nikhileswarkomati/suicide-watch\n",
    "detectdf = pd.read_csv('Suicide_Detection.csv', index_col = 0)"
   ]
  },
  {
   "cell_type": "code",
   "execution_count": 3,
   "id": "ca4b3099-66a5-405b-89ee-f81e9a4b0cf4",
   "metadata": {},
   "outputs": [
    {
     "data": {
      "text/html": [
       "<div>\n",
       "<style scoped>\n",
       "    .dataframe tbody tr th:only-of-type {\n",
       "        vertical-align: middle;\n",
       "    }\n",
       "\n",
       "    .dataframe tbody tr th {\n",
       "        vertical-align: top;\n",
       "    }\n",
       "\n",
       "    .dataframe thead th {\n",
       "        text-align: right;\n",
       "    }\n",
       "</style>\n",
       "<table border=\"1\" class=\"dataframe\">\n",
       "  <thead>\n",
       "    <tr style=\"text-align: right;\">\n",
       "      <th></th>\n",
       "      <th>text</th>\n",
       "      <th>class</th>\n",
       "    </tr>\n",
       "  </thead>\n",
       "  <tbody>\n",
       "    <tr>\n",
       "      <th>2</th>\n",
       "      <td>Ex Wife Threatening SuicideRecently I left my ...</td>\n",
       "      <td>suicide</td>\n",
       "    </tr>\n",
       "    <tr>\n",
       "      <th>3</th>\n",
       "      <td>Am I weird I don't get affected by compliments...</td>\n",
       "      <td>non-suicide</td>\n",
       "    </tr>\n",
       "    <tr>\n",
       "      <th>4</th>\n",
       "      <td>Finally 2020 is almost over... So I can never ...</td>\n",
       "      <td>non-suicide</td>\n",
       "    </tr>\n",
       "    <tr>\n",
       "      <th>8</th>\n",
       "      <td>i need helpjust help me im crying so hard</td>\n",
       "      <td>suicide</td>\n",
       "    </tr>\n",
       "    <tr>\n",
       "      <th>9</th>\n",
       "      <td>I’m so lostHello, my name is Adam (16) and I’v...</td>\n",
       "      <td>suicide</td>\n",
       "    </tr>\n",
       "    <tr>\n",
       "      <th>...</th>\n",
       "      <td>...</td>\n",
       "      <td>...</td>\n",
       "    </tr>\n",
       "    <tr>\n",
       "      <th>348103</th>\n",
       "      <td>If you don't like rock then your not going to ...</td>\n",
       "      <td>non-suicide</td>\n",
       "    </tr>\n",
       "    <tr>\n",
       "      <th>348106</th>\n",
       "      <td>You how you can tell i have so many friends an...</td>\n",
       "      <td>non-suicide</td>\n",
       "    </tr>\n",
       "    <tr>\n",
       "      <th>348107</th>\n",
       "      <td>pee probably tastes like salty tea😏💦‼️ can som...</td>\n",
       "      <td>non-suicide</td>\n",
       "    </tr>\n",
       "    <tr>\n",
       "      <th>348108</th>\n",
       "      <td>The usual stuff you find hereI'm not posting t...</td>\n",
       "      <td>suicide</td>\n",
       "    </tr>\n",
       "    <tr>\n",
       "      <th>348110</th>\n",
       "      <td>I still haven't beaten the first boss in Hollo...</td>\n",
       "      <td>non-suicide</td>\n",
       "    </tr>\n",
       "  </tbody>\n",
       "</table>\n",
       "<p>232074 rows × 2 columns</p>\n",
       "</div>"
      ],
      "text/plain": [
       "                                                     text        class\n",
       "2       Ex Wife Threatening SuicideRecently I left my ...      suicide\n",
       "3       Am I weird I don't get affected by compliments...  non-suicide\n",
       "4       Finally 2020 is almost over... So I can never ...  non-suicide\n",
       "8               i need helpjust help me im crying so hard      suicide\n",
       "9       I’m so lostHello, my name is Adam (16) and I’v...      suicide\n",
       "...                                                   ...          ...\n",
       "348103  If you don't like rock then your not going to ...  non-suicide\n",
       "348106  You how you can tell i have so many friends an...  non-suicide\n",
       "348107  pee probably tastes like salty tea😏💦‼️ can som...  non-suicide\n",
       "348108  The usual stuff you find hereI'm not posting t...      suicide\n",
       "348110  I still haven't beaten the first boss in Hollo...  non-suicide\n",
       "\n",
       "[232074 rows x 2 columns]"
      ]
     },
     "execution_count": 3,
     "metadata": {},
     "output_type": "execute_result"
    }
   ],
   "source": [
    "detectdf"
   ]
  },
  {
   "cell_type": "code",
   "execution_count": 4,
   "id": "18b6386a-1663-4313-9d78-3d48f10c979f",
   "metadata": {},
   "outputs": [
    {
     "data": {
      "text/plain": [
       "text     0\n",
       "class    0\n",
       "dtype: int64"
      ]
     },
     "execution_count": 4,
     "metadata": {},
     "output_type": "execute_result"
    }
   ],
   "source": [
    "detectdf.isna().sum()"
   ]
  },
  {
   "cell_type": "code",
   "execution_count": 5,
   "id": "73d763b8-5821-4043-9814-b168ab989e69",
   "metadata": {},
   "outputs": [
    {
     "data": {
      "text/html": [
       "<div>\n",
       "<style scoped>\n",
       "    .dataframe tbody tr th:only-of-type {\n",
       "        vertical-align: middle;\n",
       "    }\n",
       "\n",
       "    .dataframe tbody tr th {\n",
       "        vertical-align: top;\n",
       "    }\n",
       "\n",
       "    .dataframe thead th {\n",
       "        text-align: right;\n",
       "    }\n",
       "</style>\n",
       "<table border=\"1\" class=\"dataframe\">\n",
       "  <thead>\n",
       "    <tr style=\"text-align: right;\">\n",
       "      <th></th>\n",
       "      <th>text</th>\n",
       "      <th>class</th>\n",
       "    </tr>\n",
       "  </thead>\n",
       "  <tbody>\n",
       "    <tr>\n",
       "      <th>2</th>\n",
       "      <td>Ex Wife Threatening SuicideRecently I left my ...</td>\n",
       "      <td>suicide</td>\n",
       "    </tr>\n",
       "    <tr>\n",
       "      <th>8</th>\n",
       "      <td>i need helpjust help me im crying so hard</td>\n",
       "      <td>suicide</td>\n",
       "    </tr>\n",
       "    <tr>\n",
       "      <th>9</th>\n",
       "      <td>I’m so lostHello, my name is Adam (16) and I’v...</td>\n",
       "      <td>suicide</td>\n",
       "    </tr>\n",
       "    <tr>\n",
       "      <th>11</th>\n",
       "      <td>Honetly idkI dont know what im even doing here...</td>\n",
       "      <td>suicide</td>\n",
       "    </tr>\n",
       "    <tr>\n",
       "      <th>12</th>\n",
       "      <td>[Trigger warning] Excuse for self inflicted bu...</td>\n",
       "      <td>suicide</td>\n",
       "    </tr>\n",
       "  </tbody>\n",
       "</table>\n",
       "</div>"
      ],
      "text/plain": [
       "                                                 text    class\n",
       "2   Ex Wife Threatening SuicideRecently I left my ...  suicide\n",
       "8           i need helpjust help me im crying so hard  suicide\n",
       "9   I’m so lostHello, my name is Adam (16) and I’v...  suicide\n",
       "11  Honetly idkI dont know what im even doing here...  suicide\n",
       "12  [Trigger warning] Excuse for self inflicted bu...  suicide"
      ]
     },
     "execution_count": 5,
     "metadata": {},
     "output_type": "execute_result"
    }
   ],
   "source": [
    "suicide = detectdf.loc[detectdf['class'] == 'suicide']\n",
    "suicide.head()"
   ]
  },
  {
   "cell_type": "code",
   "execution_count": 6,
   "id": "de1bcbf8-7b52-4df0-8b01-36077bf108c4",
   "metadata": {
    "tags": []
   },
   "outputs": [],
   "source": [
    "suicide = suicide.sample(n=10000) "
   ]
  },
  {
   "cell_type": "code",
   "execution_count": 7,
   "id": "81fd615a-5de2-400b-a46d-7529fc59539b",
   "metadata": {},
   "outputs": [
    {
     "data": {
      "text/html": [
       "<div>\n",
       "<style scoped>\n",
       "    .dataframe tbody tr th:only-of-type {\n",
       "        vertical-align: middle;\n",
       "    }\n",
       "\n",
       "    .dataframe tbody tr th {\n",
       "        vertical-align: top;\n",
       "    }\n",
       "\n",
       "    .dataframe thead th {\n",
       "        text-align: right;\n",
       "    }\n",
       "</style>\n",
       "<table border=\"1\" class=\"dataframe\">\n",
       "  <thead>\n",
       "    <tr style=\"text-align: right;\">\n",
       "      <th></th>\n",
       "      <th>text</th>\n",
       "      <th>class</th>\n",
       "    </tr>\n",
       "  </thead>\n",
       "  <tbody>\n",
       "    <tr>\n",
       "      <th>3</th>\n",
       "      <td>Am I weird I don't get affected by compliments...</td>\n",
       "      <td>non-suicide</td>\n",
       "    </tr>\n",
       "    <tr>\n",
       "      <th>4</th>\n",
       "      <td>Finally 2020 is almost over... So I can never ...</td>\n",
       "      <td>non-suicide</td>\n",
       "    </tr>\n",
       "    <tr>\n",
       "      <th>16</th>\n",
       "      <td>Everyone wants to be \"edgy\" and it's making me...</td>\n",
       "      <td>non-suicide</td>\n",
       "    </tr>\n",
       "    <tr>\n",
       "      <th>24</th>\n",
       "      <td>Fuck the verizon smart family app I can’t even...</td>\n",
       "      <td>non-suicide</td>\n",
       "    </tr>\n",
       "    <tr>\n",
       "      <th>26</th>\n",
       "      <td>Well, Im screwed. I locked myself in the schoo...</td>\n",
       "      <td>non-suicide</td>\n",
       "    </tr>\n",
       "  </tbody>\n",
       "</table>\n",
       "</div>"
      ],
      "text/plain": [
       "                                                 text        class\n",
       "3   Am I weird I don't get affected by compliments...  non-suicide\n",
       "4   Finally 2020 is almost over... So I can never ...  non-suicide\n",
       "16  Everyone wants to be \"edgy\" and it's making me...  non-suicide\n",
       "24  Fuck the verizon smart family app I can’t even...  non-suicide\n",
       "26  Well, Im screwed. I locked myself in the schoo...  non-suicide"
      ]
     },
     "execution_count": 7,
     "metadata": {},
     "output_type": "execute_result"
    }
   ],
   "source": [
    "non_suicide = detectdf.loc[detectdf['class'] == 'non-suicide']\n",
    "non_suicide.head()"
   ]
  },
  {
   "cell_type": "code",
   "execution_count": 8,
   "id": "0e982321-7e60-49d3-bb9b-8639ee8a9f27",
   "metadata": {},
   "outputs": [],
   "source": [
    "non_suicide = non_suicide.sample(n=10000)"
   ]
  },
  {
   "cell_type": "code",
   "execution_count": 9,
   "id": "e4a2eb52-0fdb-486f-b7af-2a59309e2543",
   "metadata": {},
   "outputs": [],
   "source": [
    "detectdf = pd.concat([suicide, non_suicide], axis=0)"
   ]
  },
  {
   "cell_type": "code",
   "execution_count": 10,
   "id": "83964ec4-2fd3-466f-b259-7bc3a32ae641",
   "metadata": {},
   "outputs": [],
   "source": [
    "detectdf = detectdf.reset_index()\n",
    "detectdf = detectdf.drop(['index'], axis=1)"
   ]
  },
  {
   "cell_type": "code",
   "execution_count": 11,
   "id": "718d0868-f490-434d-b031-f966d68c9c8c",
   "metadata": {},
   "outputs": [
    {
     "data": {
      "text/html": [
       "<div>\n",
       "<style scoped>\n",
       "    .dataframe tbody tr th:only-of-type {\n",
       "        vertical-align: middle;\n",
       "    }\n",
       "\n",
       "    .dataframe tbody tr th {\n",
       "        vertical-align: top;\n",
       "    }\n",
       "\n",
       "    .dataframe thead th {\n",
       "        text-align: right;\n",
       "    }\n",
       "</style>\n",
       "<table border=\"1\" class=\"dataframe\">\n",
       "  <thead>\n",
       "    <tr style=\"text-align: right;\">\n",
       "      <th></th>\n",
       "      <th>text</th>\n",
       "      <th>class</th>\n",
       "    </tr>\n",
       "  </thead>\n",
       "  <tbody>\n",
       "    <tr>\n",
       "      <th>0</th>\n",
       "      <td>I'm constantly sad and feeling bad and no one ...</td>\n",
       "      <td>suicide</td>\n",
       "    </tr>\n",
       "    <tr>\n",
       "      <th>1</th>\n",
       "      <td>Right after a week of my last suicidal episode...</td>\n",
       "      <td>suicide</td>\n",
       "    </tr>\n",
       "    <tr>\n",
       "      <th>2</th>\n",
       "      <td>Overwhelmed and losing interestFor the past fe...</td>\n",
       "      <td>suicide</td>\n",
       "    </tr>\n",
       "    <tr>\n",
       "      <th>3</th>\n",
       "      <td>I keep having these feelingsOne day I am ok, t...</td>\n",
       "      <td>suicide</td>\n",
       "    </tr>\n",
       "    <tr>\n",
       "      <th>4</th>\n",
       "      <td>26MI wish I would just fall asleep and not wak...</td>\n",
       "      <td>suicide</td>\n",
       "    </tr>\n",
       "    <tr>\n",
       "      <th>...</th>\n",
       "      <td>...</td>\n",
       "      <td>...</td>\n",
       "    </tr>\n",
       "    <tr>\n",
       "      <th>19995</th>\n",
       "      <td>i apprecatiate myself im prettys segc an d stuff</td>\n",
       "      <td>non-suicide</td>\n",
       "    </tr>\n",
       "    <tr>\n",
       "      <th>19996</th>\n",
       "      <td>Online school really sucks its making my grade...</td>\n",
       "      <td>non-suicide</td>\n",
       "    </tr>\n",
       "    <tr>\n",
       "      <th>19997</th>\n",
       "      <td>Fellow teenage redditors. Do NOT react to this...</td>\n",
       "      <td>non-suicide</td>\n",
       "    </tr>\n",
       "    <tr>\n",
       "      <th>19998</th>\n",
       "      <td>Had a weird reaction to a normally upbeat song...</td>\n",
       "      <td>non-suicide</td>\n",
       "    </tr>\n",
       "    <tr>\n",
       "      <th>19999</th>\n",
       "      <td>is it me or i don't see any mods being active ...</td>\n",
       "      <td>non-suicide</td>\n",
       "    </tr>\n",
       "  </tbody>\n",
       "</table>\n",
       "<p>20000 rows × 2 columns</p>\n",
       "</div>"
      ],
      "text/plain": [
       "                                                    text        class\n",
       "0      I'm constantly sad and feeling bad and no one ...      suicide\n",
       "1      Right after a week of my last suicidal episode...      suicide\n",
       "2      Overwhelmed and losing interestFor the past fe...      suicide\n",
       "3      I keep having these feelingsOne day I am ok, t...      suicide\n",
       "4      26MI wish I would just fall asleep and not wak...      suicide\n",
       "...                                                  ...          ...\n",
       "19995   i apprecatiate myself im prettys segc an d stuff  non-suicide\n",
       "19996  Online school really sucks its making my grade...  non-suicide\n",
       "19997  Fellow teenage redditors. Do NOT react to this...  non-suicide\n",
       "19998  Had a weird reaction to a normally upbeat song...  non-suicide\n",
       "19999  is it me or i don't see any mods being active ...  non-suicide\n",
       "\n",
       "[20000 rows x 2 columns]"
      ]
     },
     "execution_count": 11,
     "metadata": {},
     "output_type": "execute_result"
    }
   ],
   "source": [
    "detectdf"
   ]
  },
  {
   "cell_type": "markdown",
   "id": "86c0afdb-085c-4d87-9811-64060208d9bb",
   "metadata": {},
   "source": [
    "# preprocessing"
   ]
  },
  {
   "cell_type": "code",
   "execution_count": 12,
   "id": "85c8d588-0e72-4944-9564-54669d96e260",
   "metadata": {},
   "outputs": [],
   "source": [
    "#Get the nltk.corpus stopwords ready\n",
    "nltkstopwords = stopwords.words('english')\n",
    "other_words = ['said','make','going','go','one','say','way', 'ask', 'filler', \n",
    "               'lt', 'gt', 'sus', \"I've\", 'im', \"i'm\", 'made', 'let', 'm', 's',\n",
    "               't', 've', 'ni', 'thing']\n",
    "stopwords_set = list(nltkstopwords) + other_words"
   ]
  },
  {
   "cell_type": "code",
   "execution_count": 13,
   "id": "b95e508e-7c27-4344-a25e-cb142dc23fc2",
   "metadata": {},
   "outputs": [],
   "source": [
    "class TextPreprocessor(TransformerMixin):\n",
    "    def __init__(self, text_attribute):\n",
    "        self.text_attribute = text_attribute\n",
    "        \n",
    "    def transform(self, X, *_):\n",
    "        X_copy = X.copy()\n",
    "        X_copy[self.text_attribute] = X_copy[self.text_attribute].apply(self._preprocess_text)\n",
    "        return X_copy\n",
    "    \n",
    "    def _preprocess_text(self, text):\n",
    "        return self._lemmatize(self._leave_letters_only(self._clean(text)))\n",
    "    \n",
    "    def _clean(self, text):\n",
    "        bad_symbols = '!\"#%&\\'*+,-<=>?[\\\\]^_`{|}~'\n",
    "        text_without_symbols = text.translate(str.maketrans('', '', bad_symbols))\n",
    "\n",
    "        text_without_bad_words = ''\n",
    "        for line in text_without_symbols.split('\\n'):\n",
    "            if not line.lower().startswith('from:') and not line.lower().endswith('writes:'):\n",
    "                text_without_bad_words += line + '\\n'\n",
    "\n",
    "        clean_text = text_without_bad_words\n",
    "        email_regex = r'([a-zA-Z0-9_.+-]+@[a-zA-Z0-9-]+\\.[a-zA-Z0-9-.]+)'\n",
    "        regexes_to_remove = [email_regex, r'Subject:', r'Re:']\n",
    "        for r in regexes_to_remove:\n",
    "            clean_text = re.sub(r, '', clean_text)\n",
    "\n",
    "        return clean_text\n",
    "    \n",
    "    def _leave_letters_only(self, text):\n",
    "        text_without_punctuation = text.translate(str.maketrans('', '', string.punctuation))\n",
    "        return ' '.join(re.findall(\"[a-zA-Z]+\", text_without_punctuation))\n",
    "    \n",
    "    def _lemmatize(self, text):\n",
    "        doc = nlp(text)\n",
    "        words = [x.lemma_ for x in [y for y in doc if not y.is_stop and y.pos_ != 'PUNCT' \n",
    "                                    and y.pos_ != 'PART' and y.pos_ != 'X']]\n",
    "        return ' '.join(words)\n",
    "    \n",
    "    def fit(self, *_):\n",
    "        return self"
   ]
  },
  {
   "cell_type": "code",
   "execution_count": 14,
   "id": "7b345659-81e8-4390-ba96-b9a79ceef0fc",
   "metadata": {},
   "outputs": [
    {
     "name": "stdout",
     "output_type": "stream",
     "text": [
      "Duration: 0:06:22.527585\n"
     ]
    }
   ],
   "source": [
    "start_time = datetime.now()\n",
    "text_preprocessor = TextPreprocessor(text_attribute='text')\n",
    "df_preprocessed = text_preprocessor.transform(detectdf)\n",
    "end_time = datetime.now()\n",
    "print('Duration: {}'.format(end_time - start_time))"
   ]
  },
  {
   "cell_type": "code",
   "execution_count": 15,
   "id": "d1cf5237-98e5-4e62-ac8c-30a8e685b9c7",
   "metadata": {},
   "outputs": [
    {
     "data": {
      "text/html": [
       "<div>\n",
       "<style scoped>\n",
       "    .dataframe tbody tr th:only-of-type {\n",
       "        vertical-align: middle;\n",
       "    }\n",
       "\n",
       "    .dataframe tbody tr th {\n",
       "        vertical-align: top;\n",
       "    }\n",
       "\n",
       "    .dataframe thead th {\n",
       "        text-align: right;\n",
       "    }\n",
       "</style>\n",
       "<table border=\"1\" class=\"dataframe\">\n",
       "  <thead>\n",
       "    <tr style=\"text-align: right;\">\n",
       "      <th></th>\n",
       "      <th>text</th>\n",
       "      <th>class</th>\n",
       "    </tr>\n",
       "  </thead>\n",
       "  <tbody>\n",
       "    <tr>\n",
       "      <th>0</th>\n",
       "      <td>m constantly sad feel bad caresI try tell m go...</td>\n",
       "      <td>suicide</td>\n",
       "    </tr>\n",
       "    <tr>\n",
       "      <th>1</th>\n",
       "      <td>right week suicidal episode want die againIm l...</td>\n",
       "      <td>suicide</td>\n",
       "    </tr>\n",
       "    <tr>\n",
       "      <th>2</th>\n",
       "      <td>overwhelmed lose interestfor past month ve com...</td>\n",
       "      <td>suicide</td>\n",
       "    </tr>\n",
       "    <tr>\n",
       "      <th>3</th>\n",
       "      <td>have feelingsOne day ok day want die control d...</td>\n",
       "      <td>suicide</td>\n",
       "    </tr>\n",
       "    <tr>\n",
       "      <th>4</th>\n",
       "      <td>MI wish fall asleep wake ve feel way long feel...</td>\n",
       "      <td>suicide</td>\n",
       "    </tr>\n",
       "    <tr>\n",
       "      <th>...</th>\n",
       "      <td>...</td>\n",
       "      <td>...</td>\n",
       "    </tr>\n",
       "    <tr>\n",
       "      <th>19995</th>\n",
       "      <td>apprecatiate m prettys segc d stuff</td>\n",
       "      <td>non-suicide</td>\n",
       "    </tr>\n",
       "    <tr>\n",
       "      <th>19996</th>\n",
       "      <td>online school suck make grade drop go s s</td>\n",
       "      <td>non-suicide</td>\n",
       "    </tr>\n",
       "    <tr>\n",
       "      <th>19997</th>\n",
       "      <td>fellow teenage redditor react message read cal...</td>\n",
       "      <td>non-suicide</td>\n",
       "    </tr>\n",
       "    <tr>\n",
       "      <th>19998</th>\n",
       "      <td>weird reaction normally upbeat song listen Pom...</td>\n",
       "      <td>non-suicide</td>\n",
       "    </tr>\n",
       "    <tr>\n",
       "      <th>19999</th>\n",
       "      <td>mod active mod</td>\n",
       "      <td>non-suicide</td>\n",
       "    </tr>\n",
       "  </tbody>\n",
       "</table>\n",
       "<p>20000 rows × 2 columns</p>\n",
       "</div>"
      ],
      "text/plain": [
       "                                                    text        class\n",
       "0      m constantly sad feel bad caresI try tell m go...      suicide\n",
       "1      right week suicidal episode want die againIm l...      suicide\n",
       "2      overwhelmed lose interestfor past month ve com...      suicide\n",
       "3      have feelingsOne day ok day want die control d...      suicide\n",
       "4      MI wish fall asleep wake ve feel way long feel...      suicide\n",
       "...                                                  ...          ...\n",
       "19995                apprecatiate m prettys segc d stuff  non-suicide\n",
       "19996          online school suck make grade drop go s s  non-suicide\n",
       "19997  fellow teenage redditor react message read cal...  non-suicide\n",
       "19998  weird reaction normally upbeat song listen Pom...  non-suicide\n",
       "19999                                     mod active mod  non-suicide\n",
       "\n",
       "[20000 rows x 2 columns]"
      ]
     },
     "execution_count": 15,
     "metadata": {},
     "output_type": "execute_result"
    }
   ],
   "source": [
    "df_preprocessed"
   ]
  },
  {
   "cell_type": "code",
   "execution_count": 16,
   "id": "528c951c-3afa-4bf4-84cf-f96c78e54030",
   "metadata": {},
   "outputs": [],
   "source": [
    "df_preprocessed.to_csv('suicide_preprocessed.csv')  "
   ]
  },
  {
   "cell_type": "markdown",
   "id": "83089e41-88d2-434a-aec2-ca7fab9099dd",
   "metadata": {
    "tags": []
   },
   "source": [
    "# Split train/test data"
   ]
  },
  {
   "cell_type": "code",
   "execution_count": 17,
   "id": "4d34efd2-d97a-4709-a658-2b146990ef36",
   "metadata": {
    "tags": []
   },
   "outputs": [],
   "source": [
    "# Split data into training and test sets\n",
    "from sklearn.model_selection import train_test_split\n",
    "X = df_preprocessed['text']\n",
    "y = df_preprocessed['class']\n",
    "\n",
    "X_train, X_test, y_train, y_test = train_test_split(X, y, test_size=0.2, stratify = None)"
   ]
  },
  {
   "cell_type": "markdown",
   "id": "dbd7766d-3d3d-4244-a003-c8a6c4736dac",
   "metadata": {},
   "source": [
    "# Vectorization"
   ]
  },
  {
   "cell_type": "markdown",
   "id": "feb222cd-30d6-47d8-a78e-d5509e979c0c",
   "metadata": {},
   "source": [
    "### unigram/bigram count vectorizer"
   ]
  },
  {
   "cell_type": "code",
   "execution_count": 18,
   "id": "c1eb342b-5e76-4ef4-a9dd-e5f8aa530d52",
   "metadata": {},
   "outputs": [],
   "source": [
    "#  unigram term frequency vectorizer\n",
    "unigram_count_vectorizer = CountVectorizer(binary=False, ngram_range=(1,1), token_pattern=r'\\b[^\\d\\W]+\\b')\n",
    "\n",
    "X_uni_cv_train = unigram_count_vectorizer.fit_transform(X_train)\n",
    "X_uni_cv_test = unigram_count_vectorizer.transform(X_test)\n",
    "\n",
    "#  bigram frequency vectorizer\n",
    "bigram_count_vectorizer = CountVectorizer(binary=False, ngram_range=(2,2), token_pattern=r'\\b[^\\d\\W]+\\b')\n",
    "\n",
    "X_bi_cv_train = bigram_count_vectorizer.fit_transform(X_train)\n",
    "X_bi_cv_test = bigram_count_vectorizer.transform(X_test)\n",
    "\n",
    "#  unigram term frequency vectorizer, remove stop words\n",
    "unigram_count_stopwords_vectorizer = CountVectorizer(binary=False, ngram_range=(1,1)\n",
    "                                                     , stop_words=stopwords_set, token_pattern=r'\\b[^\\d\\W]+\\b')\n",
    "\n",
    "X_uni_cv_st_train = unigram_count_stopwords_vectorizer.fit_transform(X_train)\n",
    "X_uni_cv_st_test = unigram_count_stopwords_vectorizer.transform(X_test)\n",
    "\n",
    "#  bigram frequency vectorizer, remove stop words\n",
    "bigram_count_stopwords_vectorizer = CountVectorizer(binary=False, ngram_range=(2,2)\n",
    "                                                    , stop_words=stopwords_set, token_pattern=r'\\b[^\\d\\W]+\\b')\n",
    "\n",
    "X_bi_cv_st_train = bigram_count_stopwords_vectorizer.fit_transform(X_train)\n",
    "X_bi_cv_st_test = bigram_count_stopwords_vectorizer.transform(X_test)"
   ]
  },
  {
   "cell_type": "markdown",
   "id": "e264614b-d6d0-4de4-8569-0615c5e8e434",
   "metadata": {},
   "source": [
    "### unigram/bigram boolean vectorizer"
   ]
  },
  {
   "cell_type": "code",
   "execution_count": 19,
   "id": "5025796c-8613-4ec5-8b51-c191d37f9487",
   "metadata": {},
   "outputs": [],
   "source": [
    "#  unigram boolean vectorizer\n",
    "unigram_bool_vectorizer = CountVectorizer(binary=True, ngram_range=(1,1),token_pattern=r'\\b[^\\d\\W]+\\b')\n",
    "\n",
    "X_uni_bv_train = unigram_bool_vectorizer.fit_transform(X_train)\n",
    "X_uni_bv_test = unigram_bool_vectorizer.transform(X_test)\n",
    "\n",
    "#  bigram boolean vectorizer\n",
    "bigram_bool_vectorizer = CountVectorizer(binary=True, ngram_range=(2,2), token_pattern=r'\\b[^\\d\\W]+\\b')\n",
    "\n",
    "X_bi_bv_train = bigram_bool_vectorizer.fit_transform(X_train)\n",
    "X_bi_bv_test = bigram_bool_vectorizer.transform(X_test)\n",
    "\n",
    "#  unigram boolean vectorizer, remove stop words\n",
    "unigram_bool_stopwords_vectorizer = CountVectorizer(binary=True, ngram_range=(1,1), \n",
    "                                                    stop_words=stopwords_set, token_pattern=r'\\b[^\\d\\W]+\\b')\n",
    "\n",
    "X_uni_bv_st_train = unigram_bool_vectorizer.fit_transform(X_train)\n",
    "X_uni_bv_st_test = unigram_bool_vectorizer.transform(X_test)\n",
    "\n",
    "#  bigram boolean vectorizer, remove stop words\n",
    "bigram_bool_stopwords_vectorizer = CountVectorizer(binary=True, ngram_range=(2,2), \n",
    "                                                   stop_words=stopwords_set, token_pattern=r'\\b[^\\d\\W]+\\b')\n",
    "\n",
    "X_bi_bv_st_train = bigram_bool_vectorizer.fit_transform(X_train)\n",
    "X_bi_bv_st_test = bigram_bool_vectorizer.transform(X_test)"
   ]
  },
  {
   "cell_type": "markdown",
   "id": "1e3bfc9f-e05d-4778-994f-59222168e684",
   "metadata": {},
   "source": [
    "### TFIDF"
   ]
  },
  {
   "cell_type": "code",
   "execution_count": 20,
   "id": "755ffc6b-979f-46cc-93db-33df25ee83cf",
   "metadata": {},
   "outputs": [],
   "source": [
    "tfidf_vectorizer = TfidfVectorizer(max_features=10000)\n",
    "tfidf_vectorizer_n12 = TfidfVectorizer(max_features=10000, ngram_range=(1,2))\n",
    "\n",
    "X_tfidf_train = tfidf_vectorizer.fit_transform(X_train)\n",
    "X_tfidf_test = tfidf_vectorizer.transform(X_test)\n",
    "\n",
    "X_tfidf_train_n12= tfidf_vectorizer_n12.fit_transform(X_train)\n",
    "X_tfidf_test_n12=tfidf_vectorizer_n12.transform(X_test)"
   ]
  },
  {
   "cell_type": "markdown",
   "id": "dccc3672-e333-4909-b058-9406c35cf61c",
   "metadata": {},
   "source": [
    "# Tokenize and Vectorize for DT and RF"
   ]
  },
  {
   "cell_type": "code",
   "execution_count": 21,
   "id": "951f70d8-3e09-476d-91a8-5282ff037d5a",
   "metadata": {},
   "outputs": [],
   "source": [
    "corpusLIST=[]\n",
    "LabelLIST=[]\n",
    "\n",
    "for nexttext, nextlabel in zip(df_preprocessed[\"text\"], df_preprocessed[\"class\"]):\n",
    "    corpusLIST.append(nexttext)\n",
    "    LabelLIST.append(nextlabel)"
   ]
  },
  {
   "cell_type": "code",
   "execution_count": 22,
   "id": "9c201ffb-0576-4499-957c-7e852cc5b111",
   "metadata": {},
   "outputs": [],
   "source": [
    "### Vectorize\n",
    "## unigram term frequency vectorizer, remove stop words\n",
    "MyCountV=CountVectorizer(binary=False, \n",
    "                         ngram_range=(1,1),\n",
    "                         lowercase=True, \n",
    "                         stop_words = stopwords_set,\n",
    "                         max_features=50)\n",
    "\n",
    "\n",
    "## Use your CV\n",
    "MyDTM = MyCountV.fit_transform(corpusLIST)  # create a sparse matrix\n",
    "# print(type(MyDTM))\n",
    "\n",
    "\n",
    "ColumnNames=MyCountV.get_feature_names()\n",
    "#print(type(ColumnNames))\n",
    "\n",
    "\n",
    "## Build the data frame\n",
    "MyDTM_DF=pd.DataFrame(MyDTM.toarray(),columns=ColumnNames)\n",
    "\n",
    "## Convert the labels from list to df\n",
    "Labels_DF = pd.DataFrame(LabelLIST,columns=['LABEL'])\n",
    "\n",
    "## Check your new DF and you new Labels df:\n",
    "#print(\"Labels\\n\")\n",
    "# print(Labels_DF)\n",
    "#print(\"News df\\n\")\n",
    "# print(MyDTM_DF.iloc[:,0:6])\n",
    "\n",
    "##Save original DF - without the lables\n",
    "My_Orig_DF=MyDTM_DF\n",
    "# print(My_Orig_DF)\n",
    "######################\n",
    "## AND - just to make sure our dataframe is fair\n",
    "## let's remove columns called:\n",
    "## food, bitcoin, and sports (as these are label names)\n",
    "######################\n",
    "#MyDTM_DF=MyDTM_DF.drop(topics, axis=1)\n",
    "\n",
    "\n",
    "## Now - let's create a complete and labeled\n",
    "## dataframe:\n",
    "dfs = [Labels_DF, MyDTM_DF]\n",
    "#print(dfs)\n",
    "\n",
    "Final_DF_Labeled = pd.concat(dfs,axis=1, join='inner')\n",
    "## DF with labels\n",
    "#print(Final_DF_Labeled)"
   ]
  },
  {
   "cell_type": "code",
   "execution_count": 23,
   "id": "959a5625-d3be-47c0-b828-9a1c35b52072",
   "metadata": {},
   "outputs": [
    {
     "data": {
      "text/html": [
       "<div>\n",
       "<style scoped>\n",
       "    .dataframe tbody tr th:only-of-type {\n",
       "        vertical-align: middle;\n",
       "    }\n",
       "\n",
       "    .dataframe tbody tr th {\n",
       "        vertical-align: top;\n",
       "    }\n",
       "\n",
       "    .dataframe thead th {\n",
       "        text-align: right;\n",
       "    }\n",
       "</style>\n",
       "<table border=\"1\" class=\"dataframe\">\n",
       "  <thead>\n",
       "    <tr style=\"text-align: right;\">\n",
       "      <th></th>\n",
       "      <th>LABEL</th>\n",
       "      <th>anymore</th>\n",
       "      <th>bad</th>\n",
       "      <th>care</th>\n",
       "      <th>come</th>\n",
       "      <th>day</th>\n",
       "      <th>die</th>\n",
       "      <th>end</th>\n",
       "      <th>family</th>\n",
       "      <th>feel</th>\n",
       "      <th>...</th>\n",
       "      <th>suicide</th>\n",
       "      <th>talk</th>\n",
       "      <th>tell</th>\n",
       "      <th>think</th>\n",
       "      <th>time</th>\n",
       "      <th>try</th>\n",
       "      <th>want</th>\n",
       "      <th>well</th>\n",
       "      <th>work</th>\n",
       "      <th>year</th>\n",
       "    </tr>\n",
       "  </thead>\n",
       "  <tbody>\n",
       "    <tr>\n",
       "      <th>0</th>\n",
       "      <td>suicide</td>\n",
       "      <td>0</td>\n",
       "      <td>3</td>\n",
       "      <td>0</td>\n",
       "      <td>0</td>\n",
       "      <td>0</td>\n",
       "      <td>0</td>\n",
       "      <td>0</td>\n",
       "      <td>0</td>\n",
       "      <td>2</td>\n",
       "      <td>...</td>\n",
       "      <td>1</td>\n",
       "      <td>0</td>\n",
       "      <td>1</td>\n",
       "      <td>1</td>\n",
       "      <td>0</td>\n",
       "      <td>1</td>\n",
       "      <td>1</td>\n",
       "      <td>0</td>\n",
       "      <td>0</td>\n",
       "      <td>0</td>\n",
       "    </tr>\n",
       "    <tr>\n",
       "      <th>1</th>\n",
       "      <td>suicide</td>\n",
       "      <td>1</td>\n",
       "      <td>2</td>\n",
       "      <td>0</td>\n",
       "      <td>0</td>\n",
       "      <td>2</td>\n",
       "      <td>1</td>\n",
       "      <td>1</td>\n",
       "      <td>0</td>\n",
       "      <td>2</td>\n",
       "      <td>...</td>\n",
       "      <td>0</td>\n",
       "      <td>1</td>\n",
       "      <td>1</td>\n",
       "      <td>1</td>\n",
       "      <td>2</td>\n",
       "      <td>1</td>\n",
       "      <td>1</td>\n",
       "      <td>1</td>\n",
       "      <td>1</td>\n",
       "      <td>3</td>\n",
       "    </tr>\n",
       "    <tr>\n",
       "      <th>2</th>\n",
       "      <td>suicide</td>\n",
       "      <td>0</td>\n",
       "      <td>0</td>\n",
       "      <td>0</td>\n",
       "      <td>0</td>\n",
       "      <td>0</td>\n",
       "      <td>0</td>\n",
       "      <td>0</td>\n",
       "      <td>0</td>\n",
       "      <td>0</td>\n",
       "      <td>...</td>\n",
       "      <td>0</td>\n",
       "      <td>0</td>\n",
       "      <td>0</td>\n",
       "      <td>0</td>\n",
       "      <td>1</td>\n",
       "      <td>0</td>\n",
       "      <td>0</td>\n",
       "      <td>0</td>\n",
       "      <td>1</td>\n",
       "      <td>0</td>\n",
       "    </tr>\n",
       "    <tr>\n",
       "      <th>3</th>\n",
       "      <td>suicide</td>\n",
       "      <td>0</td>\n",
       "      <td>0</td>\n",
       "      <td>0</td>\n",
       "      <td>0</td>\n",
       "      <td>4</td>\n",
       "      <td>1</td>\n",
       "      <td>1</td>\n",
       "      <td>0</td>\n",
       "      <td>0</td>\n",
       "      <td>...</td>\n",
       "      <td>0</td>\n",
       "      <td>0</td>\n",
       "      <td>1</td>\n",
       "      <td>0</td>\n",
       "      <td>0</td>\n",
       "      <td>0</td>\n",
       "      <td>1</td>\n",
       "      <td>0</td>\n",
       "      <td>0</td>\n",
       "      <td>0</td>\n",
       "    </tr>\n",
       "    <tr>\n",
       "      <th>4</th>\n",
       "      <td>suicide</td>\n",
       "      <td>0</td>\n",
       "      <td>0</td>\n",
       "      <td>0</td>\n",
       "      <td>0</td>\n",
       "      <td>0</td>\n",
       "      <td>0</td>\n",
       "      <td>0</td>\n",
       "      <td>1</td>\n",
       "      <td>2</td>\n",
       "      <td>...</td>\n",
       "      <td>0</td>\n",
       "      <td>0</td>\n",
       "      <td>0</td>\n",
       "      <td>0</td>\n",
       "      <td>1</td>\n",
       "      <td>0</td>\n",
       "      <td>2</td>\n",
       "      <td>1</td>\n",
       "      <td>0</td>\n",
       "      <td>1</td>\n",
       "    </tr>\n",
       "    <tr>\n",
       "      <th>...</th>\n",
       "      <td>...</td>\n",
       "      <td>...</td>\n",
       "      <td>...</td>\n",
       "      <td>...</td>\n",
       "      <td>...</td>\n",
       "      <td>...</td>\n",
       "      <td>...</td>\n",
       "      <td>...</td>\n",
       "      <td>...</td>\n",
       "      <td>...</td>\n",
       "      <td>...</td>\n",
       "      <td>...</td>\n",
       "      <td>...</td>\n",
       "      <td>...</td>\n",
       "      <td>...</td>\n",
       "      <td>...</td>\n",
       "      <td>...</td>\n",
       "      <td>...</td>\n",
       "      <td>...</td>\n",
       "      <td>...</td>\n",
       "      <td>...</td>\n",
       "    </tr>\n",
       "    <tr>\n",
       "      <th>19995</th>\n",
       "      <td>non-suicide</td>\n",
       "      <td>0</td>\n",
       "      <td>0</td>\n",
       "      <td>0</td>\n",
       "      <td>0</td>\n",
       "      <td>0</td>\n",
       "      <td>0</td>\n",
       "      <td>0</td>\n",
       "      <td>0</td>\n",
       "      <td>0</td>\n",
       "      <td>...</td>\n",
       "      <td>0</td>\n",
       "      <td>0</td>\n",
       "      <td>0</td>\n",
       "      <td>0</td>\n",
       "      <td>0</td>\n",
       "      <td>0</td>\n",
       "      <td>0</td>\n",
       "      <td>0</td>\n",
       "      <td>0</td>\n",
       "      <td>0</td>\n",
       "    </tr>\n",
       "    <tr>\n",
       "      <th>19996</th>\n",
       "      <td>non-suicide</td>\n",
       "      <td>0</td>\n",
       "      <td>0</td>\n",
       "      <td>0</td>\n",
       "      <td>0</td>\n",
       "      <td>0</td>\n",
       "      <td>0</td>\n",
       "      <td>0</td>\n",
       "      <td>0</td>\n",
       "      <td>0</td>\n",
       "      <td>...</td>\n",
       "      <td>0</td>\n",
       "      <td>0</td>\n",
       "      <td>0</td>\n",
       "      <td>0</td>\n",
       "      <td>0</td>\n",
       "      <td>0</td>\n",
       "      <td>0</td>\n",
       "      <td>0</td>\n",
       "      <td>0</td>\n",
       "      <td>0</td>\n",
       "    </tr>\n",
       "    <tr>\n",
       "      <th>19997</th>\n",
       "      <td>non-suicide</td>\n",
       "      <td>0</td>\n",
       "      <td>0</td>\n",
       "      <td>0</td>\n",
       "      <td>0</td>\n",
       "      <td>0</td>\n",
       "      <td>0</td>\n",
       "      <td>0</td>\n",
       "      <td>0</td>\n",
       "      <td>0</td>\n",
       "      <td>...</td>\n",
       "      <td>0</td>\n",
       "      <td>0</td>\n",
       "      <td>0</td>\n",
       "      <td>0</td>\n",
       "      <td>0</td>\n",
       "      <td>0</td>\n",
       "      <td>0</td>\n",
       "      <td>0</td>\n",
       "      <td>0</td>\n",
       "      <td>0</td>\n",
       "    </tr>\n",
       "    <tr>\n",
       "      <th>19998</th>\n",
       "      <td>non-suicide</td>\n",
       "      <td>0</td>\n",
       "      <td>0</td>\n",
       "      <td>0</td>\n",
       "      <td>0</td>\n",
       "      <td>0</td>\n",
       "      <td>0</td>\n",
       "      <td>0</td>\n",
       "      <td>0</td>\n",
       "      <td>2</td>\n",
       "      <td>...</td>\n",
       "      <td>0</td>\n",
       "      <td>0</td>\n",
       "      <td>0</td>\n",
       "      <td>0</td>\n",
       "      <td>0</td>\n",
       "      <td>0</td>\n",
       "      <td>0</td>\n",
       "      <td>0</td>\n",
       "      <td>0</td>\n",
       "      <td>0</td>\n",
       "    </tr>\n",
       "    <tr>\n",
       "      <th>19999</th>\n",
       "      <td>non-suicide</td>\n",
       "      <td>0</td>\n",
       "      <td>0</td>\n",
       "      <td>0</td>\n",
       "      <td>0</td>\n",
       "      <td>0</td>\n",
       "      <td>0</td>\n",
       "      <td>0</td>\n",
       "      <td>0</td>\n",
       "      <td>0</td>\n",
       "      <td>...</td>\n",
       "      <td>0</td>\n",
       "      <td>0</td>\n",
       "      <td>0</td>\n",
       "      <td>0</td>\n",
       "      <td>0</td>\n",
       "      <td>0</td>\n",
       "      <td>0</td>\n",
       "      <td>0</td>\n",
       "      <td>0</td>\n",
       "      <td>0</td>\n",
       "    </tr>\n",
       "  </tbody>\n",
       "</table>\n",
       "<p>20000 rows × 51 columns</p>\n",
       "</div>"
      ],
      "text/plain": [
       "             LABEL  anymore  bad  care  come  day  die  end  family  feel  \\\n",
       "0          suicide        0    3     0     0    0    0    0       0     2   \n",
       "1          suicide        1    2     0     0    2    1    1       0     2   \n",
       "2          suicide        0    0     0     0    0    0    0       0     0   \n",
       "3          suicide        0    0     0     0    4    1    1       0     0   \n",
       "4          suicide        0    0     0     0    0    0    0       1     2   \n",
       "...            ...      ...  ...   ...   ...  ...  ...  ...     ...   ...   \n",
       "19995  non-suicide        0    0     0     0    0    0    0       0     0   \n",
       "19996  non-suicide        0    0     0     0    0    0    0       0     0   \n",
       "19997  non-suicide        0    0     0     0    0    0    0       0     0   \n",
       "19998  non-suicide        0    0     0     0    0    0    0       0     2   \n",
       "19999  non-suicide        0    0     0     0    0    0    0       0     0   \n",
       "\n",
       "       ...  suicide  talk  tell  think  time  try  want  well  work  year  \n",
       "0      ...        1     0     1      1     0    1     1     0     0     0  \n",
       "1      ...        0     1     1      1     2    1     1     1     1     3  \n",
       "2      ...        0     0     0      0     1    0     0     0     1     0  \n",
       "3      ...        0     0     1      0     0    0     1     0     0     0  \n",
       "4      ...        0     0     0      0     1    0     2     1     0     1  \n",
       "...    ...      ...   ...   ...    ...   ...  ...   ...   ...   ...   ...  \n",
       "19995  ...        0     0     0      0     0    0     0     0     0     0  \n",
       "19996  ...        0     0     0      0     0    0     0     0     0     0  \n",
       "19997  ...        0     0     0      0     0    0     0     0     0     0  \n",
       "19998  ...        0     0     0      0     0    0     0     0     0     0  \n",
       "19999  ...        0     0     0      0     0    0     0     0     0     0  \n",
       "\n",
       "[20000 rows x 51 columns]"
      ]
     },
     "execution_count": 23,
     "metadata": {},
     "output_type": "execute_result"
    }
   ],
   "source": [
    "Final_DF_Labeled"
   ]
  },
  {
   "cell_type": "markdown",
   "id": "958c5c32-6dea-4d0f-993a-b8f643111170",
   "metadata": {},
   "source": [
    "# Explore the data"
   ]
  },
  {
   "cell_type": "code",
   "execution_count": 24,
   "id": "bc587946-b2f2-4160-b4d5-2da23da556f6",
   "metadata": {},
   "outputs": [],
   "source": [
    "suicide = df_preprocessed.loc[df_preprocessed['class'] == 'suicide']\n",
    "non_suicide = df_preprocessed.loc[df_preprocessed['class'] == 'non-suicide']"
   ]
  },
  {
   "cell_type": "code",
   "execution_count": 25,
   "id": "ac130062-584c-4bec-a6c8-c3355dff3597",
   "metadata": {},
   "outputs": [],
   "source": [
    "# Isolate the tweets in a corpus list\n",
    "corpus_su = suicide['text']\n",
    "corpus_un = non_suicide['text']"
   ]
  },
  {
   "cell_type": "code",
   "execution_count": 26,
   "id": "34ac17a4-e9b2-414a-bfc3-4d0b77dff9cd",
   "metadata": {},
   "outputs": [
    {
     "data": {
      "image/png": "[encoded data removed]",
      "text/plain": [
       "<Figure size 432x288 with 1 Axes>"
      ]
     },
     "metadata": {
      "needs_background": "light"
     },
     "output_type": "display_data"
    }
   ],
   "source": [
    "sns.countplot(df_preprocessed['class'])\n",
    "plt.show()"
   ]
  },
  {
   "cell_type": "code",
   "execution_count": 27,
   "id": "aef4d666-b7b9-403b-89fb-0af0052b5e6f",
   "metadata": {},
   "outputs": [
    {
     "data": {
      "image/png": "[encoded data removed]",
      "text/plain": [
       "<Figure size 1440x432 with 1 Axes>"
      ]
     },
     "metadata": {
      "needs_background": "light"
     },
     "output_type": "display_data"
    }
   ],
   "source": [
    "# Word clouds for suicide text\n",
    "text = \" \".join(text for text in suicide.text)\n",
    "wordcloud = WordCloud(max_font_size=50, max_words=100, background_color=\"white\",\n",
    "                     stopwords = stopwords_set).generate(text)\n",
    "fig = plt.figure(figsize = (20, 6)) \n",
    "plt.imshow(wordcloud, interpolation=\"bilinear\")\n",
    "plt.axis(\"off\")\n",
    "plt.show()"
   ]
  },
  {
   "cell_type": "code",
   "execution_count": 28,
   "id": "00a74ac5-8297-48ef-be89-a932f0d69bc2",
   "metadata": {},
   "outputs": [
    {
     "data": {
      "image/png": "[encoded data removed]",
      "text/plain": [
       "<Figure size 1440x432 with 1 Axes>"
      ]
     },
     "metadata": {
      "needs_background": "light"
     },
     "output_type": "display_data"
    }
   ],
   "source": [
    "# Word clouds for non-suicide text\n",
    "text = \" \".join(text for text in non_suicide.text)\n",
    "wordcloud = WordCloud(max_font_size=50, max_words=100, background_color=\"white\",\n",
    "                     stopwords = stopwords_set).generate(text)\n",
    "fig = plt.figure(figsize = (20, 6)) \n",
    "plt.imshow(wordcloud, interpolation=\"bilinear\")\n",
    "plt.axis(\"off\")\n",
    "plt.show()"
   ]
  },
  {
   "cell_type": "code",
   "execution_count": 29,
   "id": "5ceac74a-31a7-4c00-bc6e-9f91ad6aa56e",
   "metadata": {},
   "outputs": [
    {
     "name": "stdout",
     "output_type": "stream",
     "text": [
      "Count Vectorizer words in dictionary: 28695\n"
     ]
    }
   ],
   "source": [
    "## Apply unigram count vectorizer to suicide text\n",
    "corpus_su_cv = unigram_count_vectorizer.fit_transform(corpus_su)\n",
    "# Print length of the dictionaries to serve as a baseline. \n",
    "print(\"Count Vectorizer words in dictionary: %s\" % len(unigram_count_vectorizer.get_feature_names()))"
   ]
  },
  {
   "cell_type": "code",
   "execution_count": 30,
   "id": "bb5ed814-276b-4fc5-85af-2c32d0bfad5d",
   "metadata": {},
   "outputs": [
    {
     "name": "stdout",
     "output_type": "stream",
     "text": [
      "['abit', 'abject', 'abke', 'able', 'ablebodie', 'ablissful', 'abnormal', 'abnormally', 'aboht', 'aboit']\n"
     ]
    }
   ],
   "source": [
    "## Get the column names\n",
    "cols=unigram_count_vectorizer.get_feature_names()\n",
    "print(cols[40:50])"
   ]
  },
  {
   "cell_type": "code",
   "execution_count": 31,
   "id": "fec80429-44a2-4cde-920a-bb3fa03851ad",
   "metadata": {},
   "outputs": [
    {
     "data": {
      "text/plain": [
       "[('want', 14004),\n",
       " ('feel', 13293),\n",
       " ('like', 11839),\n",
       " ('know', 10811),\n",
       " ('life', 9839),\n",
       " ('think', 8086),\n",
       " ('time', 7311),\n",
       " ('people', 6346),\n",
       " ('year', 6288),\n",
       " ('try', 6070),\n",
       " ('friend', 5941),\n",
       " ('day', 5048),\n",
       " ('get', 4949),\n",
       " ('live', 4876),\n",
       " ('help', 4776),\n",
       " ('tell', 4729),\n",
       " ('kill', 4603),\n",
       " ('good', 4448),\n",
       " ('bad', 4183),\n",
       " ('die', 4178)]"
      ]
     },
     "execution_count": 31,
     "metadata": {},
     "output_type": "execute_result"
    }
   ],
   "source": [
    "## Convert it to an array\n",
    "cvdf = pd.DataFrame(corpus_su_cv.toarray(), columns=cols)\n",
    "# let's see top 20 frequency words after CountVectorizer\n",
    "def get_top_n_words(corpus_su, n=None):\n",
    "    vec = CountVectorizer(token_pattern=r'\\b[^\\d\\W]+\\b', stop_words=stopwords_set).fit(corpus_su)\n",
    "    bag_of_words = vec.transform(corpus_su)\n",
    "    sum_words = bag_of_words.sum(axis=0) \n",
    "    words_freq = [(word, sum_words[0, idx]) for word, idx in     vec.vocabulary_.items()]\n",
    "    words_freq =sorted(words_freq, key = lambda x: x[1], reverse=True)\n",
    "    return words_freq[:n]\n",
    "# Apply the function\n",
    "get_top_n_words(corpus_su, n=20)"
   ]
  },
  {
   "cell_type": "code",
   "execution_count": 32,
   "id": "c129d46e-e9ea-4b85-bd02-62c0c6173392",
   "metadata": {},
   "outputs": [
    {
     "name": "stdout",
     "output_type": "stream",
     "text": [
      "Count Vectorizer words in dictionary: 20840\n"
     ]
    }
   ],
   "source": [
    "## Apply unigram count vectorizer to un-suicide text\n",
    "corpus_un_cv = unigram_count_vectorizer.fit_transform(corpus_un)\n",
    "# Print length of the dictionaries to serve as a baseline. \n",
    "print(\"Count Vectorizer words in dictionary: %s\" % len(unigram_count_vectorizer.get_feature_names()))"
   ]
  },
  {
   "cell_type": "code",
   "execution_count": 33,
   "id": "a88d7c61-23a7-4452-b20b-4f88e11bd67a",
   "metadata": {},
   "outputs": [
    {
     "name": "stdout",
     "output_type": "stream",
     "text": [
      "['aamputmsourcecopylink', 'aampw', 'aand', 'ab', 'abandon', 'abandonment', 'abate', 'abatedafter', 'abaut', 'abbac']\n"
     ]
    }
   ],
   "source": [
    "## Get the column names\n",
    "cols=unigram_count_vectorizer.get_feature_names()\n",
    "print(cols[40:50])"
   ]
  },
  {
   "cell_type": "code",
   "execution_count": 34,
   "id": "a75c4caa-385b-4f73-b212-a6dabe49fe7b",
   "metadata": {},
   "outputs": [
    {
     "data": {
      "text/plain": [
       "[('like', 4651),\n",
       " ('know', 2530),\n",
       " ('want', 2316),\n",
       " ('day', 1987),\n",
       " ('jake', 1944),\n",
       " ('paulfuck', 1941),\n",
       " ('think', 1934),\n",
       " ('people', 1930),\n",
       " ('friend', 1831),\n",
       " ('feel', 1754),\n",
       " ('time', 1656),\n",
       " ('get', 1633),\n",
       " ('good', 1611),\n",
       " ('talk', 1377),\n",
       " ('tell', 1317),\n",
       " ('school', 1291),\n",
       " ('year', 1263),\n",
       " ('guy', 1252),\n",
       " ('girl', 1249),\n",
       " ('come', 1228)]"
      ]
     },
     "execution_count": 34,
     "metadata": {},
     "output_type": "execute_result"
    }
   ],
   "source": [
    "## Convert it to an array\n",
    "cvdf = pd.DataFrame(corpus_un_cv.toarray(), columns=cols)\n",
    "# let's see top 20 frequency words after CountVectorizer\n",
    "def get_top_n_words(corpus_un, n=None):\n",
    "    vec = CountVectorizer(token_pattern=r'\\b[^\\d\\W]+\\b', stop_words=stopwords_set).fit(corpus_un)\n",
    "    bag_of_words = vec.transform(corpus_un)\n",
    "    sum_words = bag_of_words.sum(axis=0) \n",
    "    words_freq = [(word, sum_words[0, idx]) for word, idx in     vec.vocabulary_.items()]\n",
    "    words_freq =sorted(words_freq, key = lambda x: x[1], reverse=True)\n",
    "    return words_freq[:n]\n",
    "# Apply the function\n",
    "get_top_n_words(corpus_un, n=20)"
   ]
  },
  {
   "cell_type": "markdown",
   "id": "8cd3728c-0737-4034-99ea-15967e649b42",
   "metadata": {},
   "source": [
    "# Modeling"
   ]
  },
  {
   "cell_type": "markdown",
   "id": "7941382e-3bfd-4eb5-a89f-849f4fe27369",
   "metadata": {},
   "source": [
    "## Multinomial Naive Baye's"
   ]
  },
  {
   "cell_type": "code",
   "execution_count": 35,
   "id": "0e2cc9bb-a6d8-4a71-bb17-64912c1a2c56",
   "metadata": {},
   "outputs": [],
   "source": [
    "NB = MultinomialNB()\n",
    "\n",
    "# unigram cv set\n",
    "NB.fit(X_uni_cv_train, y_train)\n",
    "#Prediction on unigram cv train and test set\n",
    "nb_uni_pre_train = NB.predict(X_uni_cv_train)\n",
    "nb_uni_cv_train = accuracy_score(y_train,nb_uni_pre_train)\n",
    "nb_uni_pre_test = NB.predict(X_uni_cv_test)\n",
    "nb_uni_cv_test = accuracy_score(y_test,nb_uni_pre_test)\n",
    "\n",
    "# bigram cv set\n",
    "NB.fit(X_bi_cv_train, y_train)\n",
    "#Prediction on unigram cv train and test set\n",
    "nb_bi_pre_train = NB.predict(X_bi_cv_train)\n",
    "nb_bi_cv_train = accuracy_score(y_train,nb_bi_pre_train)\n",
    "nb_bi_pre_test = NB.predict(X_bi_cv_test)\n",
    "nb_bi_cv_test = accuracy_score(y_test,nb_bi_pre_test)\n",
    "\n",
    "# unigram cv (removed stopwords) set\n",
    "NB.fit(X_uni_cv_st_train, y_train)\n",
    "#Prediction on unigram cv train and test set\n",
    "nb_uni_st_pre_train = NB.predict(X_uni_cv_st_train)\n",
    "nb_uni_st_cv_train = accuracy_score(y_train,nb_uni_st_pre_train)\n",
    "nb_uni_st_pre_test = NB.predict(X_uni_cv_st_test)\n",
    "nb_uni_st_cv_test = accuracy_score(y_test,nb_uni_st_pre_test)\n",
    "\n",
    "# bigram cv (removed stopwords) set\n",
    "NB.fit(X_bi_cv_st_train, y_train)\n",
    "#Prediction on unigram cv train and test set\n",
    "nb_bi_st_pre_train = NB.predict(X_bi_cv_st_train)\n",
    "nb_bi_st_cv_train = accuracy_score(y_train,nb_bi_st_pre_train)\n",
    "nb_bi_st_pre_test = NB.predict(X_bi_cv_st_test)\n",
    "nb_bi_st_cv_test = accuracy_score(y_test,nb_bi_st_pre_test)"
   ]
  },
  {
   "cell_type": "code",
   "execution_count": 36,
   "id": "26bcedc4-f027-4ed6-b677-fda441e7d83c",
   "metadata": {},
   "outputs": [],
   "source": [
    "nb_train_accuracy = pd.DataFrame(data=np.column_stack\n",
    "                           ((nb_uni_cv_train, nb_bi_cv_train, nb_uni_st_cv_train, nb_bi_st_cv_train)), \n",
    "                           columns=['nb_uni_cv_train','nb_bi_cv_train','nb_uni_st_cv_train', 'nb_bi_st_cv_train'])"
   ]
  },
  {
   "cell_type": "code",
   "execution_count": 37,
   "id": "53edcb48-1c4a-4880-8024-fb45a14de0cc",
   "metadata": {},
   "outputs": [
    {
     "data": {
      "text/html": [
       "<div>\n",
       "<style scoped>\n",
       "    .dataframe tbody tr th:only-of-type {\n",
       "        vertical-align: middle;\n",
       "    }\n",
       "\n",
       "    .dataframe tbody tr th {\n",
       "        vertical-align: top;\n",
       "    }\n",
       "\n",
       "    .dataframe thead th {\n",
       "        text-align: right;\n",
       "    }\n",
       "</style>\n",
       "<table border=\"1\" class=\"dataframe\">\n",
       "  <thead>\n",
       "    <tr style=\"text-align: right;\">\n",
       "      <th></th>\n",
       "      <th>nb_uni_cv_train</th>\n",
       "      <th>nb_bi_cv_train</th>\n",
       "      <th>nb_uni_st_cv_train</th>\n",
       "      <th>nb_bi_st_cv_train</th>\n",
       "    </tr>\n",
       "  </thead>\n",
       "  <tbody>\n",
       "    <tr>\n",
       "      <th>0</th>\n",
       "      <td>0.905125</td>\n",
       "      <td>0.978625</td>\n",
       "      <td>0.908</td>\n",
       "      <td>0.981938</td>\n",
       "    </tr>\n",
       "  </tbody>\n",
       "</table>\n",
       "</div>"
      ],
      "text/plain": [
       "   nb_uni_cv_train  nb_bi_cv_train  nb_uni_st_cv_train  nb_bi_st_cv_train\n",
       "0         0.905125        0.978625               0.908           0.981938"
      ]
     },
     "execution_count": 37,
     "metadata": {},
     "output_type": "execute_result"
    }
   ],
   "source": [
    "nb_train_accuracy"
   ]
  },
  {
   "cell_type": "code",
   "execution_count": 38,
   "id": "651389e8-f7fe-4e3b-bcd3-b735cf689f91",
   "metadata": {},
   "outputs": [],
   "source": [
    "nb_test_accuracy = pd.DataFrame(data=np.column_stack\n",
    "                           ((nb_uni_cv_test, nb_bi_cv_test, nb_uni_st_cv_test, nb_bi_st_cv_test)), \n",
    "                           columns=['nb_uni_cv_test','nb_bi_cv_test','nb_uni_st_cv_test', 'nb_bi_st_cv_test'])"
   ]
  },
  {
   "cell_type": "code",
   "execution_count": 39,
   "id": "638fe8c5-6556-4a74-bab7-31eeef63b0d6",
   "metadata": {},
   "outputs": [
    {
     "data": {
      "text/html": [
       "<div>\n",
       "<style scoped>\n",
       "    .dataframe tbody tr th:only-of-type {\n",
       "        vertical-align: middle;\n",
       "    }\n",
       "\n",
       "    .dataframe tbody tr th {\n",
       "        vertical-align: top;\n",
       "    }\n",
       "\n",
       "    .dataframe thead th {\n",
       "        text-align: right;\n",
       "    }\n",
       "</style>\n",
       "<table border=\"1\" class=\"dataframe\">\n",
       "  <thead>\n",
       "    <tr style=\"text-align: right;\">\n",
       "      <th></th>\n",
       "      <th>nb_uni_cv_test</th>\n",
       "      <th>nb_bi_cv_test</th>\n",
       "      <th>nb_uni_st_cv_test</th>\n",
       "      <th>nb_bi_st_cv_test</th>\n",
       "    </tr>\n",
       "  </thead>\n",
       "  <tbody>\n",
       "    <tr>\n",
       "      <th>0</th>\n",
       "      <td>0.872</td>\n",
       "      <td>0.74225</td>\n",
       "      <td>0.87425</td>\n",
       "      <td>0.746</td>\n",
       "    </tr>\n",
       "  </tbody>\n",
       "</table>\n",
       "</div>"
      ],
      "text/plain": [
       "   nb_uni_cv_test  nb_bi_cv_test  nb_uni_st_cv_test  nb_bi_st_cv_test\n",
       "0           0.872        0.74225            0.87425             0.746"
      ]
     },
     "execution_count": 39,
     "metadata": {},
     "output_type": "execute_result"
    }
   ],
   "source": [
    "nb_test_accuracy"
   ]
  },
  {
   "cell_type": "code",
   "execution_count": 40,
   "id": "b7a02dea-bf37-4821-a5b6-60c7acaf946e",
   "metadata": {},
   "outputs": [],
   "source": [
    "# unigram bv set\n",
    "NB.fit(X_uni_bv_train, y_train)\n",
    "#Prediction on unigram bv train and test set\n",
    "nb_uni_pre_train = NB.predict(X_uni_bv_train)\n",
    "nb_uni_bv_train = accuracy_score(y_train,nb_uni_pre_train)\n",
    "nb_uni_pre_test = NB.predict(X_uni_bv_test)\n",
    "nb_uni_bv_test = accuracy_score(y_test,nb_uni_pre_test)\n",
    "\n",
    "# bigram cv set\n",
    "NB.fit(X_bi_bv_train, y_train)\n",
    "#Prediction on unigram cv train and test set\n",
    "nb_bi_pre_train = NB.predict(X_bi_bv_train)\n",
    "nb_bi_bv_train = accuracy_score(y_train,nb_bi_pre_train)\n",
    "nb_bi_pre_test = NB.predict(X_bi_bv_test)\n",
    "nb_bi_bv_test = accuracy_score(y_test,nb_bi_pre_test)\n",
    "\n",
    "# unigram bv (removed stopwords) set\n",
    "NB.fit(X_uni_bv_st_train, y_train)\n",
    "#Prediction on unigram cv train and test set\n",
    "nb_uni_st_pre_train = NB.predict(X_uni_bv_st_train)\n",
    "nb_uni_st_bv_train = accuracy_score(y_train,nb_uni_st_pre_train)\n",
    "nb_uni_st_pre_test = NB.predict(X_uni_bv_st_test)\n",
    "nb_uni_st_bv_test = accuracy_score(y_test,nb_uni_st_pre_test)\n",
    "\n",
    "# bigram bv (removed stopwords) set\n",
    "NB.fit(X_bi_bv_st_train, y_train)\n",
    "#Prediction on unigram cv train and test set\n",
    "nb_bi_st_pre_train = NB.predict(X_bi_bv_st_train)\n",
    "nb_bi_st_bv_train = accuracy_score(y_train,nb_bi_st_pre_train)\n",
    "nb_bi_st_pre_test = NB.predict(X_bi_bv_st_test)\n",
    "nb_bi_st_bv_test = accuracy_score(y_test,nb_bi_st_pre_test)"
   ]
  },
  {
   "cell_type": "code",
   "execution_count": 41,
   "id": "cdced043-79b2-4727-a3cf-77e5976f96f1",
   "metadata": {},
   "outputs": [],
   "source": [
    "nb_test_accuracy_bool = pd.DataFrame(data=np.column_stack\n",
    "                           ((nb_uni_bv_test, nb_bi_bv_test, nb_uni_st_bv_test, nb_bi_st_bv_test)), \n",
    "                           columns=['nb_uni_bv_test','nb_bi_bv_test','nb_uni_st_bv_test', 'nb_bi_st_bv_test'])"
   ]
  },
  {
   "cell_type": "code",
   "execution_count": 42,
   "id": "2b7f463e-1150-4079-9688-51dffb8a6fdc",
   "metadata": {},
   "outputs": [
    {
     "data": {
      "text/html": [
       "<div>\n",
       "<style scoped>\n",
       "    .dataframe tbody tr th:only-of-type {\n",
       "        vertical-align: middle;\n",
       "    }\n",
       "\n",
       "    .dataframe tbody tr th {\n",
       "        vertical-align: top;\n",
       "    }\n",
       "\n",
       "    .dataframe thead th {\n",
       "        text-align: right;\n",
       "    }\n",
       "</style>\n",
       "<table border=\"1\" class=\"dataframe\">\n",
       "  <thead>\n",
       "    <tr style=\"text-align: right;\">\n",
       "      <th></th>\n",
       "      <th>nb_uni_bv_test</th>\n",
       "      <th>nb_bi_bv_test</th>\n",
       "      <th>nb_uni_st_bv_test</th>\n",
       "      <th>nb_bi_st_bv_test</th>\n",
       "    </tr>\n",
       "  </thead>\n",
       "  <tbody>\n",
       "    <tr>\n",
       "      <th>0</th>\n",
       "      <td>0.88075</td>\n",
       "      <td>0.74675</td>\n",
       "      <td>0.88075</td>\n",
       "      <td>0.74675</td>\n",
       "    </tr>\n",
       "  </tbody>\n",
       "</table>\n",
       "</div>"
      ],
      "text/plain": [
       "   nb_uni_bv_test  nb_bi_bv_test  nb_uni_st_bv_test  nb_bi_st_bv_test\n",
       "0         0.88075        0.74675            0.88075           0.74675"
      ]
     },
     "execution_count": 42,
     "metadata": {},
     "output_type": "execute_result"
    }
   ],
   "source": [
    "nb_test_accuracy_bool"
   ]
  },
  {
   "cell_type": "code",
   "execution_count": 101,
   "id": "82845af9-f001-493f-9ef4-c5e23b16b7ae",
   "metadata": {},
   "outputs": [
    {
     "data": {
      "text/html": [
       "<div>\n",
       "<style scoped>\n",
       "    .dataframe tbody tr th:only-of-type {\n",
       "        vertical-align: middle;\n",
       "    }\n",
       "\n",
       "    .dataframe tbody tr th {\n",
       "        vertical-align: top;\n",
       "    }\n",
       "\n",
       "    .dataframe thead th {\n",
       "        text-align: right;\n",
       "    }\n",
       "</style>\n",
       "<table border=\"1\" class=\"dataframe\">\n",
       "  <thead>\n",
       "    <tr style=\"text-align: right;\">\n",
       "      <th></th>\n",
       "      <th>nb_uni_cv_test</th>\n",
       "      <th>nb_bi_cv_test</th>\n",
       "      <th>nb_uni_st_cv_test</th>\n",
       "      <th>nb_bi_st_cv_test</th>\n",
       "      <th>nb_uni_bv_test</th>\n",
       "      <th>nb_bi_bv_test</th>\n",
       "      <th>nb_uni_st_bv_test</th>\n",
       "      <th>nb_bi_st_bv_test</th>\n",
       "    </tr>\n",
       "  </thead>\n",
       "  <tbody>\n",
       "    <tr>\n",
       "      <th>0</th>\n",
       "      <td>0.872</td>\n",
       "      <td>0.74225</td>\n",
       "      <td>0.87425</td>\n",
       "      <td>0.746</td>\n",
       "      <td>0.88075</td>\n",
       "      <td>0.74675</td>\n",
       "      <td>0.88075</td>\n",
       "      <td>0.74675</td>\n",
       "    </tr>\n",
       "  </tbody>\n",
       "</table>\n",
       "</div>"
      ],
      "text/plain": [
       "   nb_uni_cv_test  nb_bi_cv_test  nb_uni_st_cv_test  nb_bi_st_cv_test  \\\n",
       "0           0.872        0.74225            0.87425             0.746   \n",
       "\n",
       "   nb_uni_bv_test  nb_bi_bv_test  nb_uni_st_bv_test  nb_bi_st_bv_test  \n",
       "0         0.88075        0.74675            0.88075           0.74675  "
      ]
     },
     "execution_count": 101,
     "metadata": {},
     "output_type": "execute_result"
    }
   ],
   "source": [
    "pd.concat([nb_test_accuracy, nb_test_accuracy_bool], axis=1)"
   ]
  },
  {
   "cell_type": "code",
   "execution_count": 92,
   "id": "5ec75361-1a10-437c-8a02-6a01e0b6d51c",
   "metadata": {},
   "outputs": [],
   "source": [
    "NB.fit(unigram_bool_vectorizer.fit_transform(X_train), y_train)\n",
    "#Prediction on train set\n",
    "prediction = NB.predict(unigram_count_vectorizer.transform(X_train))"
   ]
  },
  {
   "cell_type": "code",
   "execution_count": 93,
   "id": "d22fc60b-275a-428b-9564-8fb8f8e3f59b",
   "metadata": {},
   "outputs": [
    {
     "name": "stdout",
     "output_type": "stream",
     "text": [
      "[[6804 1178]\n",
      " [ 229 7789]]\n"
     ]
    }
   ],
   "source": [
    "#Confusion matrix\n",
    "print(confusion_matrix(y_train, prediction))"
   ]
  },
  {
   "cell_type": "code",
   "execution_count": 94,
   "id": "0dbaf613-8191-411f-a31e-a6481606e45a",
   "metadata": {},
   "outputs": [
    {
     "data": {
      "text/html": [
       "<div>\n",
       "<style scoped>\n",
       "    .dataframe tbody tr th:only-of-type {\n",
       "        vertical-align: middle;\n",
       "    }\n",
       "\n",
       "    .dataframe tbody tr th {\n",
       "        vertical-align: top;\n",
       "    }\n",
       "\n",
       "    .dataframe thead th {\n",
       "        text-align: right;\n",
       "    }\n",
       "</style>\n",
       "<table border=\"1\" class=\"dataframe\">\n",
       "  <thead>\n",
       "    <tr style=\"text-align: right;\">\n",
       "      <th></th>\n",
       "      <th>precision</th>\n",
       "      <th>recall</th>\n",
       "      <th>f1-score</th>\n",
       "      <th>support</th>\n",
       "    </tr>\n",
       "  </thead>\n",
       "  <tbody>\n",
       "    <tr>\n",
       "      <th>non-suicide</th>\n",
       "      <td>0.967439</td>\n",
       "      <td>0.852418</td>\n",
       "      <td>0.906294</td>\n",
       "      <td>7982.000000</td>\n",
       "    </tr>\n",
       "    <tr>\n",
       "      <th>suicide</th>\n",
       "      <td>0.868629</td>\n",
       "      <td>0.971439</td>\n",
       "      <td>0.917162</td>\n",
       "      <td>8018.000000</td>\n",
       "    </tr>\n",
       "    <tr>\n",
       "      <th>accuracy</th>\n",
       "      <td>0.912062</td>\n",
       "      <td>0.912062</td>\n",
       "      <td>0.912062</td>\n",
       "      <td>0.912062</td>\n",
       "    </tr>\n",
       "    <tr>\n",
       "      <th>macro avg</th>\n",
       "      <td>0.918034</td>\n",
       "      <td>0.911929</td>\n",
       "      <td>0.911728</td>\n",
       "      <td>16000.000000</td>\n",
       "    </tr>\n",
       "    <tr>\n",
       "      <th>weighted avg</th>\n",
       "      <td>0.917923</td>\n",
       "      <td>0.912062</td>\n",
       "      <td>0.911740</td>\n",
       "      <td>16000.000000</td>\n",
       "    </tr>\n",
       "  </tbody>\n",
       "</table>\n",
       "</div>"
      ],
      "text/plain": [
       "              precision    recall  f1-score       support\n",
       "non-suicide    0.967439  0.852418  0.906294   7982.000000\n",
       "suicide        0.868629  0.971439  0.917162   8018.000000\n",
       "accuracy       0.912062  0.912062  0.912062      0.912062\n",
       "macro avg      0.918034  0.911929  0.911728  16000.000000\n",
       "weighted avg   0.917923  0.912062  0.911740  16000.000000"
      ]
     },
     "execution_count": 94,
     "metadata": {},
     "output_type": "execute_result"
    }
   ],
   "source": [
    "#Classification Report\n",
    "reportnb_cla = classification_report(y_train, prediction, output_dict=True)\n",
    "dfnb_cla = pd.DataFrame(reportnb_cla).transpose()\n",
    "dfnb_cla"
   ]
  },
  {
   "cell_type": "code",
   "execution_count": 95,
   "id": "a6eb6862-dfe1-4d1e-a31a-3273a4dda5e1",
   "metadata": {},
   "outputs": [
    {
     "name": "stdout",
     "output_type": "stream",
     "text": [
      "[[1598  420]\n",
      " [  57 1925]]\n"
     ]
    }
   ],
   "source": [
    "#Prediction on test set\n",
    "prediction_test = NB.predict(unigram_bool_vectorizer.transform(X_test))\n",
    "#Confusion matrix\n",
    "print(confusion_matrix(y_test, prediction_test))"
   ]
  },
  {
   "cell_type": "code",
   "execution_count": 96,
   "id": "2a8e1142-d470-4345-bd83-18195acca337",
   "metadata": {},
   "outputs": [
    {
     "data": {
      "text/html": [
       "<div>\n",
       "<style scoped>\n",
       "    .dataframe tbody tr th:only-of-type {\n",
       "        vertical-align: middle;\n",
       "    }\n",
       "\n",
       "    .dataframe tbody tr th {\n",
       "        vertical-align: top;\n",
       "    }\n",
       "\n",
       "    .dataframe thead th {\n",
       "        text-align: right;\n",
       "    }\n",
       "</style>\n",
       "<table border=\"1\" class=\"dataframe\">\n",
       "  <thead>\n",
       "    <tr style=\"text-align: right;\">\n",
       "      <th></th>\n",
       "      <th>precision</th>\n",
       "      <th>recall</th>\n",
       "      <th>f1-score</th>\n",
       "      <th>support</th>\n",
       "    </tr>\n",
       "  </thead>\n",
       "  <tbody>\n",
       "    <tr>\n",
       "      <th>non-suicide</th>\n",
       "      <td>0.965559</td>\n",
       "      <td>0.791873</td>\n",
       "      <td>0.870133</td>\n",
       "      <td>2018.00000</td>\n",
       "    </tr>\n",
       "    <tr>\n",
       "      <th>suicide</th>\n",
       "      <td>0.820896</td>\n",
       "      <td>0.971241</td>\n",
       "      <td>0.889762</td>\n",
       "      <td>1982.00000</td>\n",
       "    </tr>\n",
       "    <tr>\n",
       "      <th>accuracy</th>\n",
       "      <td>0.880750</td>\n",
       "      <td>0.880750</td>\n",
       "      <td>0.880750</td>\n",
       "      <td>0.88075</td>\n",
       "    </tr>\n",
       "    <tr>\n",
       "      <th>macro avg</th>\n",
       "      <td>0.893227</td>\n",
       "      <td>0.881557</td>\n",
       "      <td>0.879948</td>\n",
       "      <td>4000.00000</td>\n",
       "    </tr>\n",
       "    <tr>\n",
       "      <th>weighted avg</th>\n",
       "      <td>0.893878</td>\n",
       "      <td>0.880750</td>\n",
       "      <td>0.879859</td>\n",
       "      <td>4000.00000</td>\n",
       "    </tr>\n",
       "  </tbody>\n",
       "</table>\n",
       "</div>"
      ],
      "text/plain": [
       "              precision    recall  f1-score     support\n",
       "non-suicide    0.965559  0.791873  0.870133  2018.00000\n",
       "suicide        0.820896  0.971241  0.889762  1982.00000\n",
       "accuracy       0.880750  0.880750  0.880750     0.88075\n",
       "macro avg      0.893227  0.881557  0.879948  4000.00000\n",
       "weighted avg   0.893878  0.880750  0.879859  4000.00000"
      ]
     },
     "execution_count": 96,
     "metadata": {},
     "output_type": "execute_result"
    }
   ],
   "source": [
    "#Evaluating on test data\n",
    "reportnb = classification_report(y_test, prediction_test, output_dict=True)\n",
    "dfnb = pd.DataFrame(reportnb).transpose()\n",
    "dfnb"
   ]
  },
  {
   "cell_type": "markdown",
   "id": "cb91ae3f-f9d7-4649-a630-1c3ca005d430",
   "metadata": {},
   "source": [
    "## SVMs"
   ]
  },
  {
   "cell_type": "markdown",
   "id": "298f16ce-0e80-4657-abf3-a57ef8cbcef3",
   "metadata": {},
   "source": [
    "#### SVC with linear kernel"
   ]
  },
  {
   "cell_type": "code",
   "execution_count": 48,
   "id": "6320eedf-e7c8-4850-a3d8-3373ed48d10b",
   "metadata": {},
   "outputs": [
    {
     "data": {
      "text/html": [
       "<style>#sk-container-id-1 {color: black;background-color: white;}#sk-container-id-1 pre{padding: 0;}#sk-container-id-1 div.sk-toggleable {background-color: white;}#sk-container-id-1 label.sk-toggleable__label {cursor: pointer;display: block;width: 100%;margin-bottom: 0;padding: 0.3em;box-sizing: border-box;text-align: center;}#sk-container-id-1 label.sk-toggleable__label-arrow:before {content: \"▸\";float: left;margin-right: 0.25em;color: #696969;}#sk-container-id-1 label.sk-toggleable__label-arrow:hover:before {color: black;}#sk-container-id-1 div.sk-estimator:hover label.sk-toggleable__label-arrow:before {color: black;}#sk-container-id-1 div.sk-toggleable__content {max-height: 0;max-width: 0;overflow: hidden;text-align: left;background-color: #f0f8ff;}#sk-container-id-1 div.sk-toggleable__content pre {margin: 0.2em;color: black;border-radius: 0.25em;background-color: #f0f8ff;}#sk-container-id-1 input.sk-toggleable__control:checked~div.sk-toggleable__content {max-height: 200px;max-width: 100%;overflow: auto;}#sk-container-id-1 input.sk-toggleable__control:checked~label.sk-toggleable__label-arrow:before {content: \"▾\";}#sk-container-id-1 div.sk-estimator input.sk-toggleable__control:checked~label.sk-toggleable__label {background-color: #d4ebff;}#sk-container-id-1 div.sk-label input.sk-toggleable__control:checked~label.sk-toggleable__label {background-color: #d4ebff;}#sk-container-id-1 input.sk-hidden--visually {border: 0;clip: rect(1px 1px 1px 1px);clip: rect(1px, 1px, 1px, 1px);height: 1px;margin: -1px;overflow: hidden;padding: 0;position: absolute;width: 1px;}#sk-container-id-1 div.sk-estimator {font-family: monospace;background-color: #f0f8ff;border: 1px dotted black;border-radius: 0.25em;box-sizing: border-box;margin-bottom: 0.5em;}#sk-container-id-1 div.sk-estimator:hover {background-color: #d4ebff;}#sk-container-id-1 div.sk-parallel-item::after {content: \"\";width: 100%;border-bottom: 1px solid gray;flex-grow: 1;}#sk-container-id-1 div.sk-label:hover label.sk-toggleable__label {background-color: #d4ebff;}#sk-container-id-1 div.sk-serial::before {content: \"\";position: absolute;border-left: 1px solid gray;box-sizing: border-box;top: 0;bottom: 0;left: 50%;z-index: 0;}#sk-container-id-1 div.sk-serial {display: flex;flex-direction: column;align-items: center;background-color: white;padding-right: 0.2em;padding-left: 0.2em;position: relative;}#sk-container-id-1 div.sk-item {position: relative;z-index: 1;}#sk-container-id-1 div.sk-parallel {display: flex;align-items: stretch;justify-content: center;background-color: white;position: relative;}#sk-container-id-1 div.sk-item::before, #sk-container-id-1 div.sk-parallel-item::before {content: \"\";position: absolute;border-left: 1px solid gray;box-sizing: border-box;top: 0;bottom: 0;left: 50%;z-index: -1;}#sk-container-id-1 div.sk-parallel-item {display: flex;flex-direction: column;z-index: 1;position: relative;background-color: white;}#sk-container-id-1 div.sk-parallel-item:first-child::after {align-self: flex-end;width: 50%;}#sk-container-id-1 div.sk-parallel-item:last-child::after {align-self: flex-start;width: 50%;}#sk-container-id-1 div.sk-parallel-item:only-child::after {width: 0;}#sk-container-id-1 div.sk-dashed-wrapped {border: 1px dashed gray;margin: 0 0.4em 0.5em 0.4em;box-sizing: border-box;padding-bottom: 0.4em;background-color: white;}#sk-container-id-1 div.sk-label label {font-family: monospace;font-weight: bold;display: inline-block;line-height: 1.2em;}#sk-container-id-1 div.sk-label-container {text-align: center;}#sk-container-id-1 div.sk-container {/* jupyter's `normalize.less` sets `[hidden] { display: none; }` but bootstrap.min.css set `[hidden] { display: none !important; }` so we also need the `!important` here to be able to override the default hidden behavior on the sphinx rendered scikit-learn.org. See: https://github.com/scikit-learn/scikit-learn/issues/21755 */display: inline-block !important;position: relative;}#sk-container-id-1 div.sk-text-repr-fallback {display: none;}</style><div id=\"sk-container-id-1\" class=\"sk-top-container\"><div class=\"sk-text-repr-fallback\"><pre>SVC(kernel=&#x27;linear&#x27;)</pre><b>In a Jupyter environment, please rerun this cell to show the HTML representation or trust the notebook. <br />On GitHub, the HTML representation is unable to render, please try loading this page with nbviewer.org.</b></div><div class=\"sk-container\" hidden><div class=\"sk-item\"><div class=\"sk-estimator sk-toggleable\"><input class=\"sk-toggleable__control sk-hidden--visually\" id=\"sk-estimator-id-1\" type=\"checkbox\" checked><label for=\"sk-estimator-id-1\" class=\"sk-toggleable__label sk-toggleable__label-arrow\">SVC</label><div class=\"sk-toggleable__content\"><pre>SVC(kernel=&#x27;linear&#x27;)</pre></div></div></div></div></div>"
      ],
      "text/plain": [
       "SVC(kernel='linear')"
      ]
     },
     "execution_count": 48,
     "metadata": {},
     "output_type": "execute_result"
    }
   ],
   "source": [
    "svclassifier = SVC(kernel='linear')\n",
    "svclassifier.fit(unigram_count_vectorizer.fit_transform(X_train), y_train)"
   ]
  },
  {
   "cell_type": "code",
   "execution_count": 49,
   "id": "40cbf27d-7a96-4947-8ba2-4182c32f2b00",
   "metadata": {},
   "outputs": [],
   "source": [
    "pred_svm_test = svclassifier.predict(unigram_count_vectorizer.transform(X_test))"
   ]
  },
  {
   "cell_type": "code",
   "execution_count": 50,
   "id": "2fd3427e-bbf9-46b4-8aed-31a9f06bba97",
   "metadata": {},
   "outputs": [
    {
     "name": "stdout",
     "output_type": "stream",
     "text": [
      "[[1882  136]\n",
      " [ 228 1754]]\n"
     ]
    }
   ],
   "source": [
    "print(confusion_matrix(y_test, pred_svm_test))\n",
    "report = classification_report(y_test, pred_svm_test, output_dict=True)\n",
    "dfsvmlinear = pd.DataFrame(report).transpose()"
   ]
  },
  {
   "cell_type": "code",
   "execution_count": 51,
   "id": "7243e0d6-90f3-4780-a7f0-6642a6104adb",
   "metadata": {},
   "outputs": [
    {
     "data": {
      "text/html": [
       "<div>\n",
       "<style scoped>\n",
       "    .dataframe tbody tr th:only-of-type {\n",
       "        vertical-align: middle;\n",
       "    }\n",
       "\n",
       "    .dataframe tbody tr th {\n",
       "        vertical-align: top;\n",
       "    }\n",
       "\n",
       "    .dataframe thead th {\n",
       "        text-align: right;\n",
       "    }\n",
       "</style>\n",
       "<table border=\"1\" class=\"dataframe\">\n",
       "  <thead>\n",
       "    <tr style=\"text-align: right;\">\n",
       "      <th></th>\n",
       "      <th>precision</th>\n",
       "      <th>recall</th>\n",
       "      <th>f1-score</th>\n",
       "      <th>support</th>\n",
       "    </tr>\n",
       "  </thead>\n",
       "  <tbody>\n",
       "    <tr>\n",
       "      <th>non-suicide</th>\n",
       "      <td>0.891943</td>\n",
       "      <td>0.932607</td>\n",
       "      <td>0.911822</td>\n",
       "      <td>2018.000</td>\n",
       "    </tr>\n",
       "    <tr>\n",
       "      <th>suicide</th>\n",
       "      <td>0.928042</td>\n",
       "      <td>0.884965</td>\n",
       "      <td>0.905992</td>\n",
       "      <td>1982.000</td>\n",
       "    </tr>\n",
       "    <tr>\n",
       "      <th>accuracy</th>\n",
       "      <td>0.909000</td>\n",
       "      <td>0.909000</td>\n",
       "      <td>0.909000</td>\n",
       "      <td>0.909</td>\n",
       "    </tr>\n",
       "    <tr>\n",
       "      <th>macro avg</th>\n",
       "      <td>0.909993</td>\n",
       "      <td>0.908786</td>\n",
       "      <td>0.908907</td>\n",
       "      <td>4000.000</td>\n",
       "    </tr>\n",
       "    <tr>\n",
       "      <th>weighted avg</th>\n",
       "      <td>0.909830</td>\n",
       "      <td>0.909000</td>\n",
       "      <td>0.908933</td>\n",
       "      <td>4000.000</td>\n",
       "    </tr>\n",
       "  </tbody>\n",
       "</table>\n",
       "</div>"
      ],
      "text/plain": [
       "              precision    recall  f1-score   support\n",
       "non-suicide    0.891943  0.932607  0.911822  2018.000\n",
       "suicide        0.928042  0.884965  0.905992  1982.000\n",
       "accuracy       0.909000  0.909000  0.909000     0.909\n",
       "macro avg      0.909993  0.908786  0.908907  4000.000\n",
       "weighted avg   0.909830  0.909000  0.908933  4000.000"
      ]
     },
     "execution_count": 51,
     "metadata": {},
     "output_type": "execute_result"
    }
   ],
   "source": [
    "dfsvmlinear"
   ]
  },
  {
   "cell_type": "markdown",
   "id": "fa2d715d-f9a1-427c-ba07-7f13822707cd",
   "metadata": {},
   "source": [
    "#### SVC with polynomial (degree 1) kernel"
   ]
  },
  {
   "cell_type": "code",
   "execution_count": 97,
   "id": "41265322-412a-4fa1-8fec-d7d3f19cc9d7",
   "metadata": {},
   "outputs": [
    {
     "data": {
      "text/html": [
       "<style>#sk-container-id-7 {color: black;background-color: white;}#sk-container-id-7 pre{padding: 0;}#sk-container-id-7 div.sk-toggleable {background-color: white;}#sk-container-id-7 label.sk-toggleable__label {cursor: pointer;display: block;width: 100%;margin-bottom: 0;padding: 0.3em;box-sizing: border-box;text-align: center;}#sk-container-id-7 label.sk-toggleable__label-arrow:before {content: \"▸\";float: left;margin-right: 0.25em;color: #696969;}#sk-container-id-7 label.sk-toggleable__label-arrow:hover:before {color: black;}#sk-container-id-7 div.sk-estimator:hover label.sk-toggleable__label-arrow:before {color: black;}#sk-container-id-7 div.sk-toggleable__content {max-height: 0;max-width: 0;overflow: hidden;text-align: left;background-color: #f0f8ff;}#sk-container-id-7 div.sk-toggleable__content pre {margin: 0.2em;color: black;border-radius: 0.25em;background-color: #f0f8ff;}#sk-container-id-7 input.sk-toggleable__control:checked~div.sk-toggleable__content {max-height: 200px;max-width: 100%;overflow: auto;}#sk-container-id-7 input.sk-toggleable__control:checked~label.sk-toggleable__label-arrow:before {content: \"▾\";}#sk-container-id-7 div.sk-estimator input.sk-toggleable__control:checked~label.sk-toggleable__label {background-color: #d4ebff;}#sk-container-id-7 div.sk-label input.sk-toggleable__control:checked~label.sk-toggleable__label {background-color: #d4ebff;}#sk-container-id-7 input.sk-hidden--visually {border: 0;clip: rect(1px 1px 1px 1px);clip: rect(1px, 1px, 1px, 1px);height: 1px;margin: -1px;overflow: hidden;padding: 0;position: absolute;width: 1px;}#sk-container-id-7 div.sk-estimator {font-family: monospace;background-color: #f0f8ff;border: 1px dotted black;border-radius: 0.25em;box-sizing: border-box;margin-bottom: 0.5em;}#sk-container-id-7 div.sk-estimator:hover {background-color: #d4ebff;}#sk-container-id-7 div.sk-parallel-item::after {content: \"\";width: 100%;border-bottom: 1px solid gray;flex-grow: 1;}#sk-container-id-7 div.sk-label:hover label.sk-toggleable__label {background-color: #d4ebff;}#sk-container-id-7 div.sk-serial::before {content: \"\";position: absolute;border-left: 1px solid gray;box-sizing: border-box;top: 0;bottom: 0;left: 50%;z-index: 0;}#sk-container-id-7 div.sk-serial {display: flex;flex-direction: column;align-items: center;background-color: white;padding-right: 0.2em;padding-left: 0.2em;position: relative;}#sk-container-id-7 div.sk-item {position: relative;z-index: 1;}#sk-container-id-7 div.sk-parallel {display: flex;align-items: stretch;justify-content: center;background-color: white;position: relative;}#sk-container-id-7 div.sk-item::before, #sk-container-id-7 div.sk-parallel-item::before {content: \"\";position: absolute;border-left: 1px solid gray;box-sizing: border-box;top: 0;bottom: 0;left: 50%;z-index: -1;}#sk-container-id-7 div.sk-parallel-item {display: flex;flex-direction: column;z-index: 1;position: relative;background-color: white;}#sk-container-id-7 div.sk-parallel-item:first-child::after {align-self: flex-end;width: 50%;}#sk-container-id-7 div.sk-parallel-item:last-child::after {align-self: flex-start;width: 50%;}#sk-container-id-7 div.sk-parallel-item:only-child::after {width: 0;}#sk-container-id-7 div.sk-dashed-wrapped {border: 1px dashed gray;margin: 0 0.4em 0.5em 0.4em;box-sizing: border-box;padding-bottom: 0.4em;background-color: white;}#sk-container-id-7 div.sk-label label {font-family: monospace;font-weight: bold;display: inline-block;line-height: 1.2em;}#sk-container-id-7 div.sk-label-container {text-align: center;}#sk-container-id-7 div.sk-container {/* jupyter's `normalize.less` sets `[hidden] { display: none; }` but bootstrap.min.css set `[hidden] { display: none !important; }` so we also need the `!important` here to be able to override the default hidden behavior on the sphinx rendered scikit-learn.org. See: https://github.com/scikit-learn/scikit-learn/issues/21755 */display: inline-block !important;position: relative;}#sk-container-id-7 div.sk-text-repr-fallback {display: none;}</style><div id=\"sk-container-id-7\" class=\"sk-top-container\"><div class=\"sk-text-repr-fallback\"><pre>SVC(degree=1, kernel=&#x27;poly&#x27;)</pre><b>In a Jupyter environment, please rerun this cell to show the HTML representation or trust the notebook. <br />On GitHub, the HTML representation is unable to render, please try loading this page with nbviewer.org.</b></div><div class=\"sk-container\" hidden><div class=\"sk-item\"><div class=\"sk-estimator sk-toggleable\"><input class=\"sk-toggleable__control sk-hidden--visually\" id=\"sk-estimator-id-7\" type=\"checkbox\" checked><label for=\"sk-estimator-id-7\" class=\"sk-toggleable__label sk-toggleable__label-arrow\">SVC</label><div class=\"sk-toggleable__content\"><pre>SVC(degree=1, kernel=&#x27;poly&#x27;)</pre></div></div></div></div></div>"
      ],
      "text/plain": [
       "SVC(degree=1, kernel='poly')"
      ]
     },
     "execution_count": 97,
     "metadata": {},
     "output_type": "execute_result"
    }
   ],
   "source": [
    "poly_svc = SVC(kernel='poly', degree=1)\n",
    "poly_svc.fit(unigram_count_vectorizer.fit_transform(X_train), y_train)"
   ]
  },
  {
   "cell_type": "code",
   "execution_count": 98,
   "id": "417f531c-171c-466a-baed-95c76d03de2d",
   "metadata": {},
   "outputs": [],
   "source": [
    "pred_svm_test = poly_svc.predict(unigram_count_vectorizer.transform(X_test))"
   ]
  },
  {
   "cell_type": "code",
   "execution_count": 99,
   "id": "122bb67a-e59e-4cb4-b56a-34297d8c907f",
   "metadata": {},
   "outputs": [
    {
     "name": "stdout",
     "output_type": "stream",
     "text": [
      "[[1928   90]\n",
      " [ 420 1562]]\n"
     ]
    }
   ],
   "source": [
    "print(confusion_matrix(y_test, pred_svm_test))\n",
    "report = classification_report(y_test, pred_svm_test, output_dict=True)\n",
    "dfsvmpoly = pd.DataFrame(report).transpose()"
   ]
  },
  {
   "cell_type": "code",
   "execution_count": 100,
   "id": "94414807-9fc0-46e3-8a4d-de085d86cf9c",
   "metadata": {},
   "outputs": [
    {
     "data": {
      "text/html": [
       "<div>\n",
       "<style scoped>\n",
       "    .dataframe tbody tr th:only-of-type {\n",
       "        vertical-align: middle;\n",
       "    }\n",
       "\n",
       "    .dataframe tbody tr th {\n",
       "        vertical-align: top;\n",
       "    }\n",
       "\n",
       "    .dataframe thead th {\n",
       "        text-align: right;\n",
       "    }\n",
       "</style>\n",
       "<table border=\"1\" class=\"dataframe\">\n",
       "  <thead>\n",
       "    <tr style=\"text-align: right;\">\n",
       "      <th></th>\n",
       "      <th>precision</th>\n",
       "      <th>recall</th>\n",
       "      <th>f1-score</th>\n",
       "      <th>support</th>\n",
       "    </tr>\n",
       "  </thead>\n",
       "  <tbody>\n",
       "    <tr>\n",
       "      <th>non-suicide</th>\n",
       "      <td>0.821124</td>\n",
       "      <td>0.955401</td>\n",
       "      <td>0.883188</td>\n",
       "      <td>2018.0000</td>\n",
       "    </tr>\n",
       "    <tr>\n",
       "      <th>suicide</th>\n",
       "      <td>0.945521</td>\n",
       "      <td>0.788093</td>\n",
       "      <td>0.859659</td>\n",
       "      <td>1982.0000</td>\n",
       "    </tr>\n",
       "    <tr>\n",
       "      <th>accuracy</th>\n",
       "      <td>0.872500</td>\n",
       "      <td>0.872500</td>\n",
       "      <td>0.872500</td>\n",
       "      <td>0.8725</td>\n",
       "    </tr>\n",
       "    <tr>\n",
       "      <th>macro avg</th>\n",
       "      <td>0.883322</td>\n",
       "      <td>0.871747</td>\n",
       "      <td>0.871424</td>\n",
       "      <td>4000.0000</td>\n",
       "    </tr>\n",
       "    <tr>\n",
       "      <th>weighted avg</th>\n",
       "      <td>0.882763</td>\n",
       "      <td>0.872500</td>\n",
       "      <td>0.871529</td>\n",
       "      <td>4000.0000</td>\n",
       "    </tr>\n",
       "  </tbody>\n",
       "</table>\n",
       "</div>"
      ],
      "text/plain": [
       "              precision    recall  f1-score    support\n",
       "non-suicide    0.821124  0.955401  0.883188  2018.0000\n",
       "suicide        0.945521  0.788093  0.859659  1982.0000\n",
       "accuracy       0.872500  0.872500  0.872500     0.8725\n",
       "macro avg      0.883322  0.871747  0.871424  4000.0000\n",
       "weighted avg   0.882763  0.872500  0.871529  4000.0000"
      ]
     },
     "execution_count": 100,
     "metadata": {},
     "output_type": "execute_result"
    }
   ],
   "source": [
    "dfsvmpoly"
   ]
  },
  {
   "cell_type": "markdown",
   "id": "360334ad-c98d-41bf-ae15-a69adf8ee180",
   "metadata": {},
   "source": [
    "#### SVC with RBF kernel"
   ]
  },
  {
   "cell_type": "code",
   "execution_count": 78,
   "id": "5c9b1f0c-4b75-4e12-9b3d-37fdc5b7b794",
   "metadata": {},
   "outputs": [
    {
     "data": {
      "text/html": [
       "<style>#sk-container-id-4 {color: black;background-color: white;}#sk-container-id-4 pre{padding: 0;}#sk-container-id-4 div.sk-toggleable {background-color: white;}#sk-container-id-4 label.sk-toggleable__label {cursor: pointer;display: block;width: 100%;margin-bottom: 0;padding: 0.3em;box-sizing: border-box;text-align: center;}#sk-container-id-4 label.sk-toggleable__label-arrow:before {content: \"▸\";float: left;margin-right: 0.25em;color: #696969;}#sk-container-id-4 label.sk-toggleable__label-arrow:hover:before {color: black;}#sk-container-id-4 div.sk-estimator:hover label.sk-toggleable__label-arrow:before {color: black;}#sk-container-id-4 div.sk-toggleable__content {max-height: 0;max-width: 0;overflow: hidden;text-align: left;background-color: #f0f8ff;}#sk-container-id-4 div.sk-toggleable__content pre {margin: 0.2em;color: black;border-radius: 0.25em;background-color: #f0f8ff;}#sk-container-id-4 input.sk-toggleable__control:checked~div.sk-toggleable__content {max-height: 200px;max-width: 100%;overflow: auto;}#sk-container-id-4 input.sk-toggleable__control:checked~label.sk-toggleable__label-arrow:before {content: \"▾\";}#sk-container-id-4 div.sk-estimator input.sk-toggleable__control:checked~label.sk-toggleable__label {background-color: #d4ebff;}#sk-container-id-4 div.sk-label input.sk-toggleable__control:checked~label.sk-toggleable__label {background-color: #d4ebff;}#sk-container-id-4 input.sk-hidden--visually {border: 0;clip: rect(1px 1px 1px 1px);clip: rect(1px, 1px, 1px, 1px);height: 1px;margin: -1px;overflow: hidden;padding: 0;position: absolute;width: 1px;}#sk-container-id-4 div.sk-estimator {font-family: monospace;background-color: #f0f8ff;border: 1px dotted black;border-radius: 0.25em;box-sizing: border-box;margin-bottom: 0.5em;}#sk-container-id-4 div.sk-estimator:hover {background-color: #d4ebff;}#sk-container-id-4 div.sk-parallel-item::after {content: \"\";width: 100%;border-bottom: 1px solid gray;flex-grow: 1;}#sk-container-id-4 div.sk-label:hover label.sk-toggleable__label {background-color: #d4ebff;}#sk-container-id-4 div.sk-serial::before {content: \"\";position: absolute;border-left: 1px solid gray;box-sizing: border-box;top: 0;bottom: 0;left: 50%;z-index: 0;}#sk-container-id-4 div.sk-serial {display: flex;flex-direction: column;align-items: center;background-color: white;padding-right: 0.2em;padding-left: 0.2em;position: relative;}#sk-container-id-4 div.sk-item {position: relative;z-index: 1;}#sk-container-id-4 div.sk-parallel {display: flex;align-items: stretch;justify-content: center;background-color: white;position: relative;}#sk-container-id-4 div.sk-item::before, #sk-container-id-4 div.sk-parallel-item::before {content: \"\";position: absolute;border-left: 1px solid gray;box-sizing: border-box;top: 0;bottom: 0;left: 50%;z-index: -1;}#sk-container-id-4 div.sk-parallel-item {display: flex;flex-direction: column;z-index: 1;position: relative;background-color: white;}#sk-container-id-4 div.sk-parallel-item:first-child::after {align-self: flex-end;width: 50%;}#sk-container-id-4 div.sk-parallel-item:last-child::after {align-self: flex-start;width: 50%;}#sk-container-id-4 div.sk-parallel-item:only-child::after {width: 0;}#sk-container-id-4 div.sk-dashed-wrapped {border: 1px dashed gray;margin: 0 0.4em 0.5em 0.4em;box-sizing: border-box;padding-bottom: 0.4em;background-color: white;}#sk-container-id-4 div.sk-label label {font-family: monospace;font-weight: bold;display: inline-block;line-height: 1.2em;}#sk-container-id-4 div.sk-label-container {text-align: center;}#sk-container-id-4 div.sk-container {/* jupyter's `normalize.less` sets `[hidden] { display: none; }` but bootstrap.min.css set `[hidden] { display: none !important; }` so we also need the `!important` here to be able to override the default hidden behavior on the sphinx rendered scikit-learn.org. See: https://github.com/scikit-learn/scikit-learn/issues/21755 */display: inline-block !important;position: relative;}#sk-container-id-4 div.sk-text-repr-fallback {display: none;}</style><div id=\"sk-container-id-4\" class=\"sk-top-container\"><div class=\"sk-text-repr-fallback\"><pre>SVC()</pre><b>In a Jupyter environment, please rerun this cell to show the HTML representation or trust the notebook. <br />On GitHub, the HTML representation is unable to render, please try loading this page with nbviewer.org.</b></div><div class=\"sk-container\" hidden><div class=\"sk-item\"><div class=\"sk-estimator sk-toggleable\"><input class=\"sk-toggleable__control sk-hidden--visually\" id=\"sk-estimator-id-4\" type=\"checkbox\" checked><label for=\"sk-estimator-id-4\" class=\"sk-toggleable__label sk-toggleable__label-arrow\">SVC</label><div class=\"sk-toggleable__content\"><pre>SVC()</pre></div></div></div></div></div>"
      ],
      "text/plain": [
       "SVC()"
      ]
     },
     "execution_count": 78,
     "metadata": {},
     "output_type": "execute_result"
    }
   ],
   "source": [
    "rbf_svc = SVC(kernel='rbf')\n",
    "rbf_svc.fit(unigram_count_vectorizer.fit_transform(X_train), y_train)"
   ]
  },
  {
   "cell_type": "code",
   "execution_count": 79,
   "id": "d5280e5f-18fe-4af2-bbc2-f77f8a2d88ab",
   "metadata": {},
   "outputs": [],
   "source": [
    "pred_svm_test = rbf_svc.predict(unigram_count_vectorizer.transform(X_test))"
   ]
  },
  {
   "cell_type": "code",
   "execution_count": 80,
   "id": "df69cc98-24d0-4b68-9370-726844cde2df",
   "metadata": {},
   "outputs": [
    {
     "name": "stdout",
     "output_type": "stream",
     "text": [
      "[[1919   99]\n",
      " [ 351 1631]]\n"
     ]
    }
   ],
   "source": [
    "print(confusion_matrix(y_test, pred_svm_test))\n",
    "report = classification_report(y_test, pred_svm_test, output_dict=True)\n",
    "dfsvmrbf = pd.DataFrame(report).transpose()"
   ]
  },
  {
   "cell_type": "code",
   "execution_count": 81,
   "id": "6695af8c-c5fe-4126-8c02-8d3506fa0982",
   "metadata": {},
   "outputs": [
    {
     "data": {
      "text/html": [
       "<div>\n",
       "<style scoped>\n",
       "    .dataframe tbody tr th:only-of-type {\n",
       "        vertical-align: middle;\n",
       "    }\n",
       "\n",
       "    .dataframe tbody tr th {\n",
       "        vertical-align: top;\n",
       "    }\n",
       "\n",
       "    .dataframe thead th {\n",
       "        text-align: right;\n",
       "    }\n",
       "</style>\n",
       "<table border=\"1\" class=\"dataframe\">\n",
       "  <thead>\n",
       "    <tr style=\"text-align: right;\">\n",
       "      <th></th>\n",
       "      <th>precision</th>\n",
       "      <th>recall</th>\n",
       "      <th>f1-score</th>\n",
       "      <th>support</th>\n",
       "    </tr>\n",
       "  </thead>\n",
       "  <tbody>\n",
       "    <tr>\n",
       "      <th>non-suicide</th>\n",
       "      <td>0.845374</td>\n",
       "      <td>0.950942</td>\n",
       "      <td>0.895056</td>\n",
       "      <td>2018.0000</td>\n",
       "    </tr>\n",
       "    <tr>\n",
       "      <th>suicide</th>\n",
       "      <td>0.942775</td>\n",
       "      <td>0.822906</td>\n",
       "      <td>0.878772</td>\n",
       "      <td>1982.0000</td>\n",
       "    </tr>\n",
       "    <tr>\n",
       "      <th>accuracy</th>\n",
       "      <td>0.887500</td>\n",
       "      <td>0.887500</td>\n",
       "      <td>0.887500</td>\n",
       "      <td>0.8875</td>\n",
       "    </tr>\n",
       "    <tr>\n",
       "      <th>macro avg</th>\n",
       "      <td>0.894075</td>\n",
       "      <td>0.886924</td>\n",
       "      <td>0.886914</td>\n",
       "      <td>4000.0000</td>\n",
       "    </tr>\n",
       "    <tr>\n",
       "      <th>weighted avg</th>\n",
       "      <td>0.893636</td>\n",
       "      <td>0.887500</td>\n",
       "      <td>0.886987</td>\n",
       "      <td>4000.0000</td>\n",
       "    </tr>\n",
       "  </tbody>\n",
       "</table>\n",
       "</div>"
      ],
      "text/plain": [
       "              precision    recall  f1-score    support\n",
       "non-suicide    0.845374  0.950942  0.895056  2018.0000\n",
       "suicide        0.942775  0.822906  0.878772  1982.0000\n",
       "accuracy       0.887500  0.887500  0.887500     0.8875\n",
       "macro avg      0.894075  0.886924  0.886914  4000.0000\n",
       "weighted avg   0.893636  0.887500  0.886987  4000.0000"
      ]
     },
     "execution_count": 81,
     "metadata": {},
     "output_type": "execute_result"
    }
   ],
   "source": [
    "dfsvmrbf"
   ]
  },
  {
   "cell_type": "markdown",
   "id": "1b8c2c38-4ff2-4f91-93a5-c2e08657ca6a",
   "metadata": {},
   "source": [
    "# Logistic Regression"
   ]
  },
  {
   "cell_type": "code",
   "execution_count": 52,
   "id": "bc1b01bd-2011-4f12-9649-9ca9f80a0eec",
   "metadata": {},
   "outputs": [],
   "source": [
    "logreg = LogisticRegression(solver='liblinear')"
   ]
  },
  {
   "cell_type": "code",
   "execution_count": 53,
   "id": "9d38fb97-114b-42ca-b386-eb23055b0d81",
   "metadata": {},
   "outputs": [
    {
     "data": {
      "text/html": [
       "<style>#sk-container-id-2 {color: black;background-color: white;}#sk-container-id-2 pre{padding: 0;}#sk-container-id-2 div.sk-toggleable {background-color: white;}#sk-container-id-2 label.sk-toggleable__label {cursor: pointer;display: block;width: 100%;margin-bottom: 0;padding: 0.3em;box-sizing: border-box;text-align: center;}#sk-container-id-2 label.sk-toggleable__label-arrow:before {content: \"▸\";float: left;margin-right: 0.25em;color: #696969;}#sk-container-id-2 label.sk-toggleable__label-arrow:hover:before {color: black;}#sk-container-id-2 div.sk-estimator:hover label.sk-toggleable__label-arrow:before {color: black;}#sk-container-id-2 div.sk-toggleable__content {max-height: 0;max-width: 0;overflow: hidden;text-align: left;background-color: #f0f8ff;}#sk-container-id-2 div.sk-toggleable__content pre {margin: 0.2em;color: black;border-radius: 0.25em;background-color: #f0f8ff;}#sk-container-id-2 input.sk-toggleable__control:checked~div.sk-toggleable__content {max-height: 200px;max-width: 100%;overflow: auto;}#sk-container-id-2 input.sk-toggleable__control:checked~label.sk-toggleable__label-arrow:before {content: \"▾\";}#sk-container-id-2 div.sk-estimator input.sk-toggleable__control:checked~label.sk-toggleable__label {background-color: #d4ebff;}#sk-container-id-2 div.sk-label input.sk-toggleable__control:checked~label.sk-toggleable__label {background-color: #d4ebff;}#sk-container-id-2 input.sk-hidden--visually {border: 0;clip: rect(1px 1px 1px 1px);clip: rect(1px, 1px, 1px, 1px);height: 1px;margin: -1px;overflow: hidden;padding: 0;position: absolute;width: 1px;}#sk-container-id-2 div.sk-estimator {font-family: monospace;background-color: #f0f8ff;border: 1px dotted black;border-radius: 0.25em;box-sizing: border-box;margin-bottom: 0.5em;}#sk-container-id-2 div.sk-estimator:hover {background-color: #d4ebff;}#sk-container-id-2 div.sk-parallel-item::after {content: \"\";width: 100%;border-bottom: 1px solid gray;flex-grow: 1;}#sk-container-id-2 div.sk-label:hover label.sk-toggleable__label {background-color: #d4ebff;}#sk-container-id-2 div.sk-serial::before {content: \"\";position: absolute;border-left: 1px solid gray;box-sizing: border-box;top: 0;bottom: 0;left: 50%;z-index: 0;}#sk-container-id-2 div.sk-serial {display: flex;flex-direction: column;align-items: center;background-color: white;padding-right: 0.2em;padding-left: 0.2em;position: relative;}#sk-container-id-2 div.sk-item {position: relative;z-index: 1;}#sk-container-id-2 div.sk-parallel {display: flex;align-items: stretch;justify-content: center;background-color: white;position: relative;}#sk-container-id-2 div.sk-item::before, #sk-container-id-2 div.sk-parallel-item::before {content: \"\";position: absolute;border-left: 1px solid gray;box-sizing: border-box;top: 0;bottom: 0;left: 50%;z-index: -1;}#sk-container-id-2 div.sk-parallel-item {display: flex;flex-direction: column;z-index: 1;position: relative;background-color: white;}#sk-container-id-2 div.sk-parallel-item:first-child::after {align-self: flex-end;width: 50%;}#sk-container-id-2 div.sk-parallel-item:last-child::after {align-self: flex-start;width: 50%;}#sk-container-id-2 div.sk-parallel-item:only-child::after {width: 0;}#sk-container-id-2 div.sk-dashed-wrapped {border: 1px dashed gray;margin: 0 0.4em 0.5em 0.4em;box-sizing: border-box;padding-bottom: 0.4em;background-color: white;}#sk-container-id-2 div.sk-label label {font-family: monospace;font-weight: bold;display: inline-block;line-height: 1.2em;}#sk-container-id-2 div.sk-label-container {text-align: center;}#sk-container-id-2 div.sk-container {/* jupyter's `normalize.less` sets `[hidden] { display: none; }` but bootstrap.min.css set `[hidden] { display: none !important; }` so we also need the `!important` here to be able to override the default hidden behavior on the sphinx rendered scikit-learn.org. See: https://github.com/scikit-learn/scikit-learn/issues/21755 */display: inline-block !important;position: relative;}#sk-container-id-2 div.sk-text-repr-fallback {display: none;}</style><div id=\"sk-container-id-2\" class=\"sk-top-container\"><div class=\"sk-text-repr-fallback\"><pre>LogisticRegression(solver=&#x27;liblinear&#x27;)</pre><b>In a Jupyter environment, please rerun this cell to show the HTML representation or trust the notebook. <br />On GitHub, the HTML representation is unable to render, please try loading this page with nbviewer.org.</b></div><div class=\"sk-container\" hidden><div class=\"sk-item\"><div class=\"sk-estimator sk-toggleable\"><input class=\"sk-toggleable__control sk-hidden--visually\" id=\"sk-estimator-id-2\" type=\"checkbox\" checked><label for=\"sk-estimator-id-2\" class=\"sk-toggleable__label sk-toggleable__label-arrow\">LogisticRegression</label><div class=\"sk-toggleable__content\"><pre>LogisticRegression(solver=&#x27;liblinear&#x27;)</pre></div></div></div></div></div>"
      ],
      "text/plain": [
       "LogisticRegression(solver='liblinear')"
      ]
     },
     "execution_count": 53,
     "metadata": {},
     "output_type": "execute_result"
    }
   ],
   "source": [
    "#Building Logistic Regression  Model\n",
    "logreg.fit(unigram_count_vectorizer.fit_transform(X_train), y_train)"
   ]
  },
  {
   "cell_type": "code",
   "execution_count": 54,
   "id": "585e3729-fe22-4ed1-9c00-d0ee8c169f99",
   "metadata": {},
   "outputs": [
    {
     "name": "stdout",
     "output_type": "stream",
     "text": [
      "[[7878  104]\n",
      " [ 251 7767]]\n"
     ]
    }
   ],
   "source": [
    "#Prediction on train set\n",
    "prediction_logistic = logreg.predict(unigram_count_vectorizer.transform(X_train))\n",
    "#Confusion matrix\n",
    "print(confusion_matrix(y_train, prediction_logistic))"
   ]
  },
  {
   "cell_type": "code",
   "execution_count": 55,
   "id": "e328974d-e3e2-4fa3-bfbb-55d5d553ae14",
   "metadata": {},
   "outputs": [
    {
     "data": {
      "text/html": [
       "<div>\n",
       "<style scoped>\n",
       "    .dataframe tbody tr th:only-of-type {\n",
       "        vertical-align: middle;\n",
       "    }\n",
       "\n",
       "    .dataframe tbody tr th {\n",
       "        vertical-align: top;\n",
       "    }\n",
       "\n",
       "    .dataframe thead th {\n",
       "        text-align: right;\n",
       "    }\n",
       "</style>\n",
       "<table border=\"1\" class=\"dataframe\">\n",
       "  <thead>\n",
       "    <tr style=\"text-align: right;\">\n",
       "      <th></th>\n",
       "      <th>precision</th>\n",
       "      <th>recall</th>\n",
       "      <th>f1-score</th>\n",
       "      <th>support</th>\n",
       "    </tr>\n",
       "  </thead>\n",
       "  <tbody>\n",
       "    <tr>\n",
       "      <th>non-suicide</th>\n",
       "      <td>0.969123</td>\n",
       "      <td>0.986971</td>\n",
       "      <td>0.977965</td>\n",
       "      <td>7982.000000</td>\n",
       "    </tr>\n",
       "    <tr>\n",
       "      <th>suicide</th>\n",
       "      <td>0.986787</td>\n",
       "      <td>0.968695</td>\n",
       "      <td>0.977657</td>\n",
       "      <td>8018.000000</td>\n",
       "    </tr>\n",
       "    <tr>\n",
       "      <th>accuracy</th>\n",
       "      <td>0.977812</td>\n",
       "      <td>0.977812</td>\n",
       "      <td>0.977812</td>\n",
       "      <td>0.977812</td>\n",
       "    </tr>\n",
       "    <tr>\n",
       "      <th>macro avg</th>\n",
       "      <td>0.977955</td>\n",
       "      <td>0.977833</td>\n",
       "      <td>0.977811</td>\n",
       "      <td>16000.000000</td>\n",
       "    </tr>\n",
       "    <tr>\n",
       "      <th>weighted avg</th>\n",
       "      <td>0.977975</td>\n",
       "      <td>0.977812</td>\n",
       "      <td>0.977811</td>\n",
       "      <td>16000.000000</td>\n",
       "    </tr>\n",
       "  </tbody>\n",
       "</table>\n",
       "</div>"
      ],
      "text/plain": [
       "              precision    recall  f1-score       support\n",
       "non-suicide    0.969123  0.986971  0.977965   7982.000000\n",
       "suicide        0.986787  0.968695  0.977657   8018.000000\n",
       "accuracy       0.977812  0.977812  0.977812      0.977812\n",
       "macro avg      0.977955  0.977833  0.977811  16000.000000\n",
       "weighted avg   0.977975  0.977812  0.977811  16000.000000"
      ]
     },
     "execution_count": 55,
     "metadata": {},
     "output_type": "execute_result"
    }
   ],
   "source": [
    "#classification_report\n",
    "reportlog_cla = classification_report(y_train, prediction_logistic, output_dict=True)\n",
    "dflog_cla = pd.DataFrame(reportlog_cla).transpose()\n",
    "dflog_cla"
   ]
  },
  {
   "cell_type": "code",
   "execution_count": 56,
   "id": "b65542aa-e1b9-4bb0-9058-1a0f3f703462",
   "metadata": {},
   "outputs": [
    {
     "name": "stdout",
     "output_type": "stream",
     "text": [
      "[[1914  104]\n",
      " [ 217 1765]]\n"
     ]
    }
   ],
   "source": [
    "#Evaluating on test data\n",
    "\n",
    "prediction_logistic_test = logreg.predict(unigram_count_vectorizer.transform(X_test))\n",
    "#Confusion matrix\n",
    "print(confusion_matrix(y_test, prediction_logistic_test))\n",
    "reportlog = classification_report(y_test, prediction_logistic_test, output_dict=True)\n",
    "dflog = pd.DataFrame(reportlog).transpose()"
   ]
  },
  {
   "cell_type": "code",
   "execution_count": 57,
   "id": "04e550ad-88eb-4bec-a857-581ab47d62d9",
   "metadata": {},
   "outputs": [
    {
     "data": {
      "text/html": [
       "<div>\n",
       "<style scoped>\n",
       "    .dataframe tbody tr th:only-of-type {\n",
       "        vertical-align: middle;\n",
       "    }\n",
       "\n",
       "    .dataframe tbody tr th {\n",
       "        vertical-align: top;\n",
       "    }\n",
       "\n",
       "    .dataframe thead th {\n",
       "        text-align: right;\n",
       "    }\n",
       "</style>\n",
       "<table border=\"1\" class=\"dataframe\">\n",
       "  <thead>\n",
       "    <tr style=\"text-align: right;\">\n",
       "      <th></th>\n",
       "      <th>precision</th>\n",
       "      <th>recall</th>\n",
       "      <th>f1-score</th>\n",
       "      <th>support</th>\n",
       "    </tr>\n",
       "  </thead>\n",
       "  <tbody>\n",
       "    <tr>\n",
       "      <th>non-suicide</th>\n",
       "      <td>0.898170</td>\n",
       "      <td>0.948464</td>\n",
       "      <td>0.922632</td>\n",
       "      <td>2018.00000</td>\n",
       "    </tr>\n",
       "    <tr>\n",
       "      <th>suicide</th>\n",
       "      <td>0.944355</td>\n",
       "      <td>0.890515</td>\n",
       "      <td>0.916645</td>\n",
       "      <td>1982.00000</td>\n",
       "    </tr>\n",
       "    <tr>\n",
       "      <th>accuracy</th>\n",
       "      <td>0.919750</td>\n",
       "      <td>0.919750</td>\n",
       "      <td>0.919750</td>\n",
       "      <td>0.91975</td>\n",
       "    </tr>\n",
       "    <tr>\n",
       "      <th>macro avg</th>\n",
       "      <td>0.921263</td>\n",
       "      <td>0.919489</td>\n",
       "      <td>0.919638</td>\n",
       "      <td>4000.00000</td>\n",
       "    </tr>\n",
       "    <tr>\n",
       "      <th>weighted avg</th>\n",
       "      <td>0.921055</td>\n",
       "      <td>0.919750</td>\n",
       "      <td>0.919665</td>\n",
       "      <td>4000.00000</td>\n",
       "    </tr>\n",
       "  </tbody>\n",
       "</table>\n",
       "</div>"
      ],
      "text/plain": [
       "              precision    recall  f1-score     support\n",
       "non-suicide    0.898170  0.948464  0.922632  2018.00000\n",
       "suicide        0.944355  0.890515  0.916645  1982.00000\n",
       "accuracy       0.919750  0.919750  0.919750     0.91975\n",
       "macro avg      0.921263  0.919489  0.919638  4000.00000\n",
       "weighted avg   0.921055  0.919750  0.919665  4000.00000"
      ]
     },
     "execution_count": 57,
     "metadata": {},
     "output_type": "execute_result"
    }
   ],
   "source": [
    "dflog"
   ]
  },
  {
   "cell_type": "markdown",
   "id": "903fd0c9-ead9-47de-a363-331ff0119d55",
   "metadata": {},
   "source": [
    "# Decision Tree classifier"
   ]
  },
  {
   "cell_type": "code",
   "execution_count": 58,
   "id": "0288ab05-4834-46a4-aa10-18129a21276a",
   "metadata": {},
   "outputs": [],
   "source": [
    "## STEP 1   Create Training and Testing Data\\\n",
    "TrainDF, TestDF = train_test_split(Final_DF_Labeled, test_size=0.3)\n",
    "# print(TrainDF)\n",
    "# print(TestDF)"
   ]
  },
  {
   "cell_type": "code",
   "execution_count": 59,
   "id": "0645bad3-9743-40c3-b25c-f94e251da592",
   "metadata": {},
   "outputs": [],
   "source": [
    "## STEP 2: Separate LABELS\n",
    "## IMPORTANT - YOU CANNOT LEAVE LABELS ON\n",
    "## Save labels\n",
    "\n",
    "### TEST ---------------------\n",
    "TestLabels=TestDF[\"LABEL\"]\n",
    "# print(TestLabels)\n",
    "TestDF = TestDF.drop([\"LABEL\"], axis=1)\n",
    "# print(TestDF)\n",
    "### TRAIN----------------------\n",
    "TrainLabels=TrainDF[\"LABEL\"]\n",
    "# print(TrainLabels)\n",
    "## remove labels\n",
    "TrainDF = TrainDF.drop([\"LABEL\"], axis=1)"
   ]
  },
  {
   "cell_type": "code",
   "execution_count": 60,
   "id": "56d661bd-fd9a-423a-845f-a4bcff5b4a70",
   "metadata": {},
   "outputs": [],
   "source": [
    "label = ['suicide', 'un_suicide']"
   ]
  },
  {
   "cell_type": "code",
   "execution_count": 61,
   "id": "e5b32574-8841-4b25-b62a-8390add72f96",
   "metadata": {},
   "outputs": [
    {
     "name": "stderr",
     "output_type": "stream",
     "text": [
      "\n",
      "(process:13284): GLib-GIO-WARNING **: 19:54:51.198: Unexpectedly, UWP app `Clipchamp.Clipchamp_2.5.5.0_neutral__yxz26nhyzhsrt' (AUMId `Clipchamp.Clipchamp_yxz26nhyzhsrt!App') supports 41 extensions but has no verbs\n"
     ]
    },
    {
     "name": "stdout",
     "output_type": "stream",
     "text": [
      "Prediction\n",
      "\n",
      "['suicide' 'non-suicide' 'suicide' ... 'suicide' 'non-suicide'\n",
      " 'non-suicide']\n",
      "\n",
      "The confusion matrix is:\n",
      "[[2524  467]\n",
      " [ 695 2314]]\n",
      "1. feature 22 (0.185702)\n",
      "feature name:  life\n",
      "2. feature 19 (0.094523)\n",
      "feature name:  kill\n",
      "3. feature 40 (0.069045)\n",
      "feature name:  suicide\n",
      "4. feature 8 (0.060222)\n",
      "feature name:  feel\n",
      "5. feature 5 (0.034184)\n",
      "feature name:  die\n",
      "6. feature 46 (0.028931)\n",
      "feature name:  want\n",
      "7. feature 23 (0.026601)\n",
      "feature name:  like\n",
      "8. feature 0 (0.025622)\n",
      "feature name:  anymore\n",
      "9. feature 24 (0.022602)\n",
      "feature name:  live\n",
      "10. feature 6 (0.020871)\n",
      "feature name:  end\n",
      "11. feature 31 (0.019890)\n",
      "feature name:  people\n",
      "12. feature 43 (0.019808)\n",
      "feature name:  think\n",
      "13. feature 20 (0.018833)\n",
      "feature name:  know\n",
      "14. feature 10 (0.016327)\n",
      "feature name:  friend\n",
      "15. feature 4 (0.015311)\n",
      "feature name:  day\n",
      "16. feature 14 (0.015168)\n",
      "feature name:  good\n",
      "17. feature 21 (0.014175)\n",
      "feature name:  leave\n",
      "18. feature 41 (0.014140)\n",
      "feature name:  talk\n",
      "19. feature 44 (0.013371)\n",
      "feature name:  time\n",
      "20. feature 13 (0.013181)\n",
      "feature name:  get\n",
      "21. feature 45 (0.013159)\n",
      "feature name:  try\n",
      "22. feature 17 (0.013062)\n",
      "feature name:  help\n",
      "23. feature 29 (0.012617)\n",
      "feature name:  need\n",
      "24. feature 27 (0.011092)\n",
      "feature name:  love\n",
      "25. feature 12 (0.010948)\n",
      "feature name:  fucking\n",
      "26. feature 34 (0.010802)\n",
      "feature name:  post\n",
      "27. feature 1 (0.010559)\n",
      "feature name:  bad\n",
      "28. feature 35 (0.010516)\n",
      "feature name:  right\n",
      "29. feature 49 (0.010238)\n",
      "feature name:  year\n",
      "30. feature 3 (0.009609)\n",
      "feature name:  come\n",
      "31. feature 38 (0.009573)\n",
      "feature name:  start\n",
      "32. feature 16 (0.009563)\n",
      "feature name:  hate\n",
      "33. feature 42 (0.009512)\n",
      "feature name:  tell\n",
      "34. feature 47 (0.009394)\n",
      "feature name:  well\n",
      "35. feature 26 (0.009301)\n",
      "feature name:  look\n",
      "36. feature 9 (0.009156)\n",
      "feature name:  find\n",
      "37. feature 7 (0.009138)\n",
      "feature name:  family\n",
      "38. feature 37 (0.009067)\n",
      "feature name:  shit\n",
      "39. feature 11 (0.008796)\n",
      "feature name:  fuck\n",
      "40. feature 36 (0.008316)\n",
      "feature name:  school\n",
      "41. feature 2 (0.008161)\n",
      "feature name:  care\n",
      "42. feature 33 (0.007567)\n",
      "feature name:  point\n",
      "43. feature 48 (0.007534)\n",
      "feature name:  work\n",
      "44. feature 25 (0.007142)\n",
      "feature name:  long\n",
      "45. feature 32 (0.007040)\n",
      "feature name:  person\n",
      "46. feature 30 (0.006901)\n",
      "feature name:  parent\n",
      "47. feature 39 (0.006255)\n",
      "feature name:  stop\n",
      "48. feature 15 (0.005691)\n",
      "feature name:  happy\n",
      "49. feature 18 (0.005656)\n",
      "feature name:  job\n",
      "50. feature 28 (0.005128)\n",
      "feature name:  month\n"
     ]
    }
   ],
   "source": [
    "## Instantiate\n",
    "MyDT=DecisionTreeClassifier(criterion='entropy', ##\"entropy\" or \"gini\"\n",
    "                            splitter='best',  ## or \"random\" or \"best\"\n",
    "                            max_depth=None,\n",
    "                            min_samples_leaf=1,\n",
    "                            min_weight_fraction_leaf=0.0,\n",
    "                            max_features=None,\n",
    "                            random_state=None,\n",
    "                            max_leaf_nodes=None,\n",
    "                            min_impurity_decrease=0.0,\n",
    "                            class_weight=None)\n",
    "\n",
    "##\n",
    "MyDT.fit(TrainDF, TrainLabels)\n",
    "\n",
    "#tree.plot_tree(MyDT)\n",
    "#plt.savefig(temp1)\n",
    "\n",
    "feature_names=TrainDF.columns\n",
    "Tree_Object = tree.export_graphviz(MyDT, out_file=None,\n",
    "                    ## The following creates TrainDF.columns for each\n",
    "                    ## which are the feature names.\n",
    "                      feature_names=feature_names,  \n",
    "                      class_names=label,\n",
    "                      filled=True, rounded=True,  \n",
    "                      special_characters=True)      \n",
    "                             \n",
    "graph = graphviz.Source(Tree_Object)\n",
    "   \n",
    "graph.render(\"MyTree\")\n",
    "\n",
    "\n",
    "## COnfusion Matrix\n",
    "print(\"Prediction\\n\")\n",
    "DT_pred=MyDT.predict(TestDF)\n",
    "print(DT_pred)\n",
    "   \n",
    "bn_matrix = confusion_matrix(TestLabels, DT_pred)\n",
    "print(\"\\nThe confusion matrix is:\")\n",
    "print(bn_matrix)\n",
    "\n",
    "\n",
    "FeatureImp=MyDT.feature_importances_  \n",
    "indices = np.argsort(FeatureImp)[::-1]\n",
    "## print out the important features.....\n",
    "for f in range(TrainDF.shape[1]):\n",
    "    if FeatureImp[indices[f]] > 0:\n",
    "        print(\"%d. feature %d (%f)\" % (f + 1, indices[f], FeatureImp[indices[f]]))\n",
    "        print (\"feature name: \", feature_names[indices[f]])\n",
    "       "
   ]
  },
  {
   "cell_type": "code",
   "execution_count": 62,
   "id": "a6989bea-4f8b-4221-b39d-eeeac0068050",
   "metadata": {},
   "outputs": [],
   "source": [
    "accuracy = accuracy_score(TestLabels,DT_pred)\n",
    "reportdt = classification_report(TestLabels, DT_pred, output_dict=True)\n",
    "dfdt = pd.DataFrame(reportdt).transpose()"
   ]
  },
  {
   "cell_type": "code",
   "execution_count": 63,
   "id": "da98b6ef-ecaa-43e8-9e9d-81c508ee3b66",
   "metadata": {},
   "outputs": [
    {
     "name": "stdout",
     "output_type": "stream",
     "text": [
      "DT Classification report:\n",
      "Accuracy:  0.8063333333333333\n"
     ]
    },
    {
     "data": {
      "text/html": [
       "<div>\n",
       "<style scoped>\n",
       "    .dataframe tbody tr th:only-of-type {\n",
       "        vertical-align: middle;\n",
       "    }\n",
       "\n",
       "    .dataframe tbody tr th {\n",
       "        vertical-align: top;\n",
       "    }\n",
       "\n",
       "    .dataframe thead th {\n",
       "        text-align: right;\n",
       "    }\n",
       "</style>\n",
       "<table border=\"1\" class=\"dataframe\">\n",
       "  <thead>\n",
       "    <tr style=\"text-align: right;\">\n",
       "      <th></th>\n",
       "      <th>precision</th>\n",
       "      <th>recall</th>\n",
       "      <th>f1-score</th>\n",
       "      <th>support</th>\n",
       "    </tr>\n",
       "  </thead>\n",
       "  <tbody>\n",
       "    <tr>\n",
       "      <th>non-suicide</th>\n",
       "      <td>0.784094</td>\n",
       "      <td>0.843865</td>\n",
       "      <td>0.812882</td>\n",
       "      <td>2991.000000</td>\n",
       "    </tr>\n",
       "    <tr>\n",
       "      <th>suicide</th>\n",
       "      <td>0.832075</td>\n",
       "      <td>0.769026</td>\n",
       "      <td>0.799309</td>\n",
       "      <td>3009.000000</td>\n",
       "    </tr>\n",
       "    <tr>\n",
       "      <th>accuracy</th>\n",
       "      <td>0.806333</td>\n",
       "      <td>0.806333</td>\n",
       "      <td>0.806333</td>\n",
       "      <td>0.806333</td>\n",
       "    </tr>\n",
       "    <tr>\n",
       "      <th>macro avg</th>\n",
       "      <td>0.808085</td>\n",
       "      <td>0.806446</td>\n",
       "      <td>0.806096</td>\n",
       "      <td>6000.000000</td>\n",
       "    </tr>\n",
       "    <tr>\n",
       "      <th>weighted avg</th>\n",
       "      <td>0.808157</td>\n",
       "      <td>0.806333</td>\n",
       "      <td>0.806075</td>\n",
       "      <td>6000.000000</td>\n",
       "    </tr>\n",
       "  </tbody>\n",
       "</table>\n",
       "</div>"
      ],
      "text/plain": [
       "              precision    recall  f1-score      support\n",
       "non-suicide    0.784094  0.843865  0.812882  2991.000000\n",
       "suicide        0.832075  0.769026  0.799309  3009.000000\n",
       "accuracy       0.806333  0.806333  0.806333     0.806333\n",
       "macro avg      0.808085  0.806446  0.806096  6000.000000\n",
       "weighted avg   0.808157  0.806333  0.806075  6000.000000"
      ]
     },
     "execution_count": 63,
     "metadata": {},
     "output_type": "execute_result"
    }
   ],
   "source": [
    "print(\"DT Classification report:\")\n",
    "print(\"Accuracy: \", accuracy)\n",
    "dfdt"
   ]
  },
  {
   "cell_type": "markdown",
   "id": "80946483-97f2-4e59-b2c4-6c3c99d43dab",
   "metadata": {},
   "source": [
    "# Random Forest"
   ]
  },
  {
   "cell_type": "code",
   "execution_count": 64,
   "id": "35201c07-bee3-407a-b5ab-c7fc0b4403f4",
   "metadata": {},
   "outputs": [],
   "source": [
    "clf = RandomForestClassifier(max_depth=10)\n",
    "clf.fit(TrainDF, TrainLabels)\n",
    "y_predict_tfidf_2 = clf.predict(TestDF)\n",
    "\n",
    "clf.fit(TrainDF, TrainLabels)\n",
    "y_predict_tfidf_n12_2 = clf.predict(TestDF)"
   ]
  },
  {
   "cell_type": "code",
   "execution_count": 65,
   "id": "8d3eda57-badb-4eab-b203-10df3f8461ee",
   "metadata": {},
   "outputs": [],
   "source": [
    "RandomForest_tfidf_results=metrics.precision_recall_fscore_support(TestLabels, y_predict_tfidf_2)\n",
    "RandomForest_tfidf_n12_results=metrics.precision_recall_fscore_support(TestLabels, y_predict_tfidf_n12_2)"
   ]
  },
  {
   "cell_type": "code",
   "execution_count": 66,
   "id": "83796f6e-6a37-40e2-865b-6cfa319c1e07",
   "metadata": {},
   "outputs": [],
   "source": [
    "RandomForest_tfidf_acc= metrics.accuracy_score(TestLabels, y_predict_tfidf_2)\n",
    "RandomForest_tfidf_n12_acc=metrics.accuracy_score(TestLabels, y_predict_tfidf_n12_2)"
   ]
  },
  {
   "cell_type": "code",
   "execution_count": 67,
   "id": "cbb3428d-c29b-44c9-9f97-06264d0aa13c",
   "metadata": {},
   "outputs": [],
   "source": [
    "reportrf = classification_report(TestLabels, y_predict_tfidf_n12_2, output_dict=True)\n",
    "dfrf = pd.DataFrame(reportdt).transpose()"
   ]
  },
  {
   "cell_type": "code",
   "execution_count": 68,
   "id": "87fda300-9b86-4931-a7fc-3d19efa2a8e6",
   "metadata": {},
   "outputs": [
    {
     "data": {
      "text/html": [
       "<div>\n",
       "<style scoped>\n",
       "    .dataframe tbody tr th:only-of-type {\n",
       "        vertical-align: middle;\n",
       "    }\n",
       "\n",
       "    .dataframe tbody tr th {\n",
       "        vertical-align: top;\n",
       "    }\n",
       "\n",
       "    .dataframe thead th {\n",
       "        text-align: right;\n",
       "    }\n",
       "</style>\n",
       "<table border=\"1\" class=\"dataframe\">\n",
       "  <thead>\n",
       "    <tr style=\"text-align: right;\">\n",
       "      <th></th>\n",
       "      <th>precision</th>\n",
       "      <th>recall</th>\n",
       "      <th>f1-score</th>\n",
       "      <th>support</th>\n",
       "    </tr>\n",
       "  </thead>\n",
       "  <tbody>\n",
       "    <tr>\n",
       "      <th>non-suicide</th>\n",
       "      <td>0.784094</td>\n",
       "      <td>0.843865</td>\n",
       "      <td>0.812882</td>\n",
       "      <td>2991.000000</td>\n",
       "    </tr>\n",
       "    <tr>\n",
       "      <th>suicide</th>\n",
       "      <td>0.832075</td>\n",
       "      <td>0.769026</td>\n",
       "      <td>0.799309</td>\n",
       "      <td>3009.000000</td>\n",
       "    </tr>\n",
       "    <tr>\n",
       "      <th>accuracy</th>\n",
       "      <td>0.806333</td>\n",
       "      <td>0.806333</td>\n",
       "      <td>0.806333</td>\n",
       "      <td>0.806333</td>\n",
       "    </tr>\n",
       "    <tr>\n",
       "      <th>macro avg</th>\n",
       "      <td>0.808085</td>\n",
       "      <td>0.806446</td>\n",
       "      <td>0.806096</td>\n",
       "      <td>6000.000000</td>\n",
       "    </tr>\n",
       "    <tr>\n",
       "      <th>weighted avg</th>\n",
       "      <td>0.808157</td>\n",
       "      <td>0.806333</td>\n",
       "      <td>0.806075</td>\n",
       "      <td>6000.000000</td>\n",
       "    </tr>\n",
       "  </tbody>\n",
       "</table>\n",
       "</div>"
      ],
      "text/plain": [
       "              precision    recall  f1-score      support\n",
       "non-suicide    0.784094  0.843865  0.812882  2991.000000\n",
       "suicide        0.832075  0.769026  0.799309  3009.000000\n",
       "accuracy       0.806333  0.806333  0.806333     0.806333\n",
       "macro avg      0.808085  0.806446  0.806096  6000.000000\n",
       "weighted avg   0.808157  0.806333  0.806075  6000.000000"
      ]
     },
     "execution_count": 68,
     "metadata": {},
     "output_type": "execute_result"
    }
   ],
   "source": [
    "dfrf"
   ]
  },
  {
   "cell_type": "code",
   "execution_count": 69,
   "id": "27f929bd-130b-48e0-98f4-29fe415ea86f",
   "metadata": {},
   "outputs": [],
   "source": [
    "data2 = [['TF-IDF','TF-IDF 2-grams'],\n",
    "         ['precision',RandomForest_tfidf_results[0][0],RandomForest_tfidf_n12_results[0][0]],\n",
    "         ['recall',RandomForest_tfidf_results[1][0],RandomForest_tfidf_n12_results[1][0]],\n",
    "         ['F1-score',RandomForest_tfidf_results[2][0],RandomForest_tfidf_n12_results[2][0]],\n",
    "        ['accuracy',RandomForest_tfidf_acc,RandomForest_tfidf_n12_acc]]"
   ]
  },
  {
   "cell_type": "code",
   "execution_count": 70,
   "id": "889f4a50-1b00-4ca9-acb2-58c12a76b5b8",
   "metadata": {},
   "outputs": [
    {
     "name": "stdout",
     "output_type": "stream",
     "text": [
      "╒═══════════╤══════════╤══════════════════╕\n",
      "│           │   TF-IDF │   TF-IDF 2-grams │\n",
      "╞═══════════╪══════════╪══════════════════╡\n",
      "│ precision │ 0.836806 │         0.832812 │\n",
      "├───────────┼──────────┼──────────────────┤\n",
      "│ recall    │ 0.886326 │         0.891006 │\n",
      "├───────────┼──────────┼──────────────────┤\n",
      "│ F1-score  │ 0.860854 │         0.860927 │\n",
      "├───────────┼──────────┼──────────────────┤\n",
      "│ accuracy  │ 0.857167 │         0.8565   │\n",
      "╘═══════════╧══════════╧══════════════════╛\n"
     ]
    }
   ],
   "source": [
    "print(tabulate(data2,headers='firstrow',tablefmt='fancy_grid'))"
   ]
  },
  {
   "cell_type": "code",
   "execution_count": 71,
   "id": "04f9e117-c0c3-4297-a4fd-9157ac26625b",
   "metadata": {},
   "outputs": [],
   "source": [
    "def plot_results(data):\n",
    "    \n",
    "    barWidth = 0.15\n",
    "    # set heights of bars\n",
    "\n",
    "    bars1 = [data[0][1],data[1][1], data[2][1]]\n",
    "    bars2 = [data[0][2], data[1][2], data[2][2]]\n",
    "    \n",
    "\n",
    "    # Set position of bar on X axis\n",
    "    r1 = np.arange(len(bars1))\n",
    "    r2 = [x + barWidth for x in r1]\n",
    "    \n",
    "\n",
    "    # Make the plot\n",
    "    plt.bar(r1, bars1, color='r', width=barWidth, edgecolor='white', label='tfidf')\n",
    "    plt.bar(r2, bars2, color='b', width=barWidth, edgecolor='white', label='tfidf_n12')\n",
    "    \n",
    "\n",
    "    # Add xticks on the middle of the group bars\n",
    "    plt.xlabel('group', fontweight='bold')\n",
    "    plt.xticks([r + barWidth for r in range(len(bars1))], ['precision', 'recall', 'f1-score'])\n",
    "\n",
    "    # Create legend & Show graphic\n",
    "    plt.legend()\n",
    "    plt.grid()\n",
    "    plt.show()"
   ]
  },
  {
   "cell_type": "code",
   "execution_count": 72,
   "id": "c6100a99-080f-47bd-ac91-99ac2884775b",
   "metadata": {},
   "outputs": [
    {
     "data": {
      "image/png": "[encoded data removed]",
      "text/plain": [
       "<Figure size 432x288 with 1 Axes>"
      ]
     },
     "metadata": {
      "needs_background": "light"
     },
     "output_type": "display_data"
    }
   ],
   "source": [
    "plot_results(data2[1:])"
   ]
  },
  {
   "cell_type": "code",
   "execution_count": null,
   "id": "5e0918aa-eba8-4f72-ae65-3f00e9fe90d9",
   "metadata": {},
   "outputs": [],
   "source": []
  }
 ],
 "metadata": {
  "kernelspec": {
   "display_name": "Python 3",
   "language": "python",
   "name": "python3"
  },
  "language_info": {
   "codemirror_mode": {
    "name": "ipython",
    "version": 3
   },
   "file_extension": ".py",
   "mimetype": "text/x-python",
   "name": "python",
   "nbconvert_exporter": "python",
   "pygments_lexer": "ipython3",
   "version": "3.8.8"
  }
 },
 "nbformat": 4,
 "nbformat_minor": 5
}
